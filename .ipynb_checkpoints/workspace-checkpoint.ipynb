{
 "cells": [
  {
   "cell_type": "code",
   "execution_count": null,
   "metadata": {},
   "outputs": [],
   "source": [
    "import brainrender\n",
    "\n",
    "brainrender.SHADER_STYLE = \"cartoon\"\n",
    "from brainrender.scene import Scene\n",
    "\n",
    "# Create a scene\n",
    "scene = Scene(title=\"brain regions\", verbose=False)\n",
    "\n",
    "# Add the whole thalamus in gray\n",
    "scene.add_brain_regions([\"TH\"], alpha=0.15)\n",
    "\n",
    "# Add VAL nucleus in wireframe style with the allen color\n",
    "val = scene.add_brain_regions([\"VAL\"], use_original_color=True)\n",
    "val.wireframe()\n",
    "\n",
    "scene.render()\n"
   ]
  },
  {
   "cell_type": "code",
   "execution_count": 1,
   "metadata": {},
   "outputs": [],
   "source": [
    "from brainrender import Scene\n",
    "from vedo import embedWindow, Plotter  # <- this will be used to render a scene in the notebook\n",
    "from ipywidgets import VBox, Button\n"
   ]
  },
  {
   "cell_type": "code",
   "execution_count": null,
   "metadata": {},
   "outputs": [],
   "source": [
    "embedWindow(None)  # <- this will make your scene popup\n",
    "\n",
    "popup_scene = Scene(title='popup')\n",
    "\n",
    "popup_scene.add_brain_region('MOs')\n",
    "\n",
    "popup_scene.render()"
   ]
  },
  {
   "cell_type": "code",
   "execution_count": 4,
   "metadata": {},
   "outputs": [
    {
     "name": "stdout",
     "output_type": "stream",
     "text": [
      "\u001b[1m\u001b[38;2;255;0;0mError in silhouette(): direction is [None]\u001b[0m\n",
      "\u001b[1m\u001b[38;2;255;0;0m render the scene with show() or specify camera/direction\u001b[0m\n",
      "Your scene is ready for rendering, use: `show(scene.renderables)`\n",
      "[(Mesh)0x7fe9b9703528, (Mesh)0x7fe998578048, (Mesh)0x7fe9d88678e8]\n"
     ]
    },
    {
     "data": {
      "application/vnd.jupyter.widget-view+json": {
       "model_id": "3897a693ea14485ea57886848e890f63",
       "version_major": 2,
       "version_minor": 0
      },
      "text/plain": [
       "Plot(antialias=3, axes=['x', 'y', 'z'], axes_helper=1.0, background_color=16777215, camera=[6771.671281616228,…"
      ]
     },
     "metadata": {},
     "output_type": "display_data"
    }
   ],
   "source": [
    "embedWindow('k3d')  # <- this will make your scene embed as a panel\n",
    "\n",
    "# Create a scene\n",
    "scene = Scene(title='Jupyter')  # note that the title will not actually display\n",
    "\n",
    "# Make sure it gets embedded in the window\n",
    "scene.jupyter = True\n",
    "\n",
    "# scene.render now will prepare the scene for rendering, but it won't render anything yet\n",
    "scene.render()\n",
    "\n",
    "#  to actually display the scene we use `vedo`'s `show` method to show the scene's actors\n",
    "print(scene.renderables)\n",
    "plt = Plotter()\n",
    "plt.show(*scene.renderables)"
   ]
  },
  {
   "cell_type": "code",
   "execution_count": null,
   "metadata": {},
   "outputs": [],
   "source": [
    "embedWindow('itkwidgets')  # <- this will make you scene embed as a widget\n",
    "\n",
    "# Create a scene\n",
    "scene = Scene(title=\"brain regions\")\n",
    "\n",
    "# Add the whole thalamus\n",
    "scene.add_brain_region(\"TH\", alpha=0.15)\n",
    "\n",
    "VBox([show(scene.renderables)])"
   ]
  },
  {
   "cell_type": "code",
   "execution_count": null,
   "metadata": {},
   "outputs": [],
   "source": []
  }
 ],
 "metadata": {
  "file_extension": ".py",
  "kernelspec": {
   "display_name": "Python 3.7.0 64-bit ('dev': conda)",
   "language": "python",
   "name": "python37064bitdevconda112fd021ba3e412cb7ad87c8512649fa"
  },
  "language_info": {
   "codemirror_mode": {
    "name": "ipython",
    "version": 3
   },
   "file_extension": ".py",
   "mimetype": "text/x-python",
   "name": "python",
   "nbconvert_exporter": "python",
   "pygments_lexer": "ipython3",
   "version": "3.7.0"
  },
  "mimetype": "text/x-python",
  "name": "python",
  "npconvert_exporter": "python",
  "pygments_lexer": "ipython3",
  "version": 3
 },
 "nbformat": 4,
 "nbformat_minor": 2
}
