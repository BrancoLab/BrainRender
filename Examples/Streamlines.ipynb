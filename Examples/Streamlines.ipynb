{
 "cells": [
  {
   "cell_type": "markdown",
   "metadata": {},
   "source": [
    "# Streamlines tutorial\n",
    "In this tutorial you will learn how to download and render streamline data to display connectivity data.\n",
    "\n",
    "<img src=\"../Screenshots/streamlines2.png\" width=\"600\" height=\"350\">\n",
    "\n",
    "The connectivity data are produced as part of the Allen Brain Atlas [Mouse Connectivity project](http://connectivity.brain-map.org).\n",
    "\n",
    "The first step towards being able to render streamlines data is to identify the set of experiments you are interested in (i.e. injections in the primary visual cortex of wild type mice]. To do so you can use the experiments explorer at [http://connectivity.brain-map.org].\n",
    "\n",
    "Once you have selected the experiments, you can download metadata about them using the 'download data as csv' option at the bottom of the page. This metadata .csv is what we can then use to get a link to the data to download. \n",
    "\n",
    "First we do the usual set up steps to get BrainRender up and running\n",
    "### Setup\n",
    "\n"
   ]
  },
  {
   "cell_type": "code",
   "execution_count": null,
   "metadata": {},
   "outputs": [],
   "source": [
    "# We begin by adding the current path to sys.path to make sure that the imports work correctly\n",
    "import sys\n",
    "sys.path.append('../')\n",
    "import os\n",
    "\n",
    "# Set up VTKPLOTTER to work in Jupyter notebooks\n",
    "from vtkplotter import *\n",
    "embedWindow(backend=False) \n",
    "\n",
    "# Get the Mouse Light data loader function\n",
    "from BrainRender.Utils.mouselight_parser import NeuronsParser \n",
    "\n",
    "from BrainRender.settings import *\n",
    "from BrainRender.Utils.data_io import update_folders\n",
    "\n",
    "main_fld = \"path_to_your_folder\"\n",
    "update_folders(main_fld)\n",
    "\n",
    "# Please check that the folder paths have been set correctly\n",
    "print(folders_paths['main_fld'])\n",
    "\n",
    "\n",
    "from BrainRender.scene import Scene\n",
    "\n",
    "from BrainRender.Utils.streamlines_parser import extract_ids_from_csv # <-- ! we added this import\n",
    "\n",
    "# Before populating the scene, we need to change the current working directory to the parent folder, \n",
    "# then we are ready to start!\n",
    "os.chdir(os.path.normpath(os.path.join(os.getcwd(), os.pardir)))"
   ]
  },
  {
   "cell_type": "markdown",
   "metadata": {},
   "source": [
    "Notice that in line 23 above we have added an import statemnt to get the function used to parse the .csv file. "
   ]
  },
  {
   "cell_type": "code",
   "execution_count": null,
   "metadata": {},
   "outputs": [],
   "source": [
    "# parse .csv file\n",
    "extract_ids_from_csv(\"path to your file\") # <- put the path to your downloaded file here"
   ]
  },
  {
   "cell_type": "markdown",
   "metadata": {},
   "source": [
    "The printed output of this function will give you the IDs of all the exeperiments. You can use these IDs to manually download streamline data from: [https://neuroinformatics.nl/HBP/allen-connectivity-viewer/streamline-downloader.html]. \n",
    "Alternatively, the function will print links for cached streamlined data, opening those link in a web browser will download compressed tractography data which you can then uncompress using free softwares like 7zip. \n",
    "\n",
    "Either way, after this step you should have .JSON files with streamlines data (one for each experiment).\n",
    "Thse .json files are what BrainRender uses to render streamlines. "
   ]
  },
  {
   "cell_type": "code",
   "execution_count": null,
   "metadata": {},
   "outputs": [],
   "source": [
    "# Start by creating a scene\n",
    "scene = Scene()\n",
    "# if you have all the .json files in a folder, where there are no other files, then you can use the 'listdir'\n",
    "# function to get the path to all the .json files:\n",
    "streamlines_files = listdir(\"path_to_folder\")\n",
    "\n",
    "# you can then pass this list of filepaths to add_streamlines.\n",
    "scene.add_streamlines(streamlines, color=\"aquamarine\")\n",
    "\n",
    "# alternative you can pass a string with the path to a single file or a list of paths to the .json files that you \n",
    "# created in some other way. \n",
    "\n",
    "# then you can just render your scene\n",
    "scene.render()"
   ]
  },
  {
   "cell_type": "markdown",
   "metadata": {},
   "source": [
    "add_streamliens takes a few arguments that let you personalize the look of the streamlines:\n",
    "* colorby: you can pass the acronym to a brain region, then the default color of that region will be used for the streamliens\n",
    "* color: alternatively you can specify the color of the streamlines directly.\n",
    "* alpha, radius: you can change the transparency and the thickness of the actors used to render the streamlines.\n",
    "\n",
    "Don't forget to check the other examples to lear more about how to use BrainRender to make amazing 3D renderings!\n",
    "Also, you can find a list of variables you can play around with in BrainRender.variables.py\n",
    "Playing around with these variables will allow you to make the rendering look exactly how you want them to be. "
   ]
  }
 ],
 "metadata": {
  "kernelspec": {
   "display_name": "Python 3",
   "language": "python",
   "name": "python3"
  },
  "language_info": {
   "codemirror_mode": {
    "name": "ipython",
    "version": 3
   },
   "file_extension": ".py",
   "mimetype": "text/x-python",
   "name": "python",
   "nbconvert_exporter": "python",
   "pygments_lexer": "ipython3",
   "version": "3.6.6"
  }
 },
 "nbformat": 4,
 "nbformat_minor": 2
}
