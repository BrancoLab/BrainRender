{
 "cells": [
  {
   "cell_type": "markdown",
   "metadata": {},
   "source": [
    "# Streamlines tutorial\n",
    "In this tutorial you will learn how to download and render streamline data to display connectivity data. In brief, injections of anterogradely transported viruses are performed in wild type and CRE-driver mouse lines. The viruses express fluorescent proteins so that efferent projections from the injection locations can be traced everywhere in the brain. The images with the fluorescence data are acquired and registered to the Allen Coordinates reference frame. The traces of the streamlines are then extracted using a fast marching algorithm (by [https://neuroinformatics.nl](https://neuroinformatics.nl)).\n",
    "\n",
    "<img src=\"../Docs/Media/streamlines.png\" width=\"600\" height=\"350\">\n",
    "\n",
    "The connectivity data are produced as part of the Allen Brain Atlas [Mouse Connectivity project](http://connectivity.brain-map.org).\n",
    "\n",
    "The first step towards being able to render streamlines data is to identify the set of experiments you are interested in (i.e. injections in the primary visual cortex of wild type mice]. To do so you can use the experiments explorer at [http://connectivity.brain-map.org].\n",
    "\n",
    "Once you have selected the experiments, you can download metadata about them using the 'download data as csv' option at the bottom of the page. This metadata .csv is what we can then use to get a link to the data to download. \n",
    "\n",
    "First we do the usual set up steps to get BrainRender up and running\n",
    "### Setup"
   ]
  },
  {
   "cell_type": "code",
   "execution_count": 1,
   "metadata": {},
   "outputs": [],
   "source": [
    "# We begin by adding the current path to sys.path to make sure that the imports work correctly\n",
    "import sys\n",
    "sys.path.append('../')\n",
    "import os\n",
    "\n",
    "# Set up VTKPLOTTER to work in Jupyter notebooks\n",
    "from vtkplotter import *\n",
    "embedWindow(backend=False) \n",
    "\n",
    "# Import variables\n",
    "from BrainRender.variables import * # <- these can be changed to personalize the look of your renders\n",
    "\n",
    "# Import BrainRender classes and useful functions\n",
    "from BrainRender.scene import Scene\n",
    "from BrainRender.Utils.parsers.streamlines import extract_ids_from_csv\n",
    "from BrainRender.Utils.data_io import listdir\n",
    "\n",
    "# Before populating the scene, we need to change the current working directory to the parent folder, \n",
    "# then we are ready to start!\n",
    "os.chdir(os.path.normpath(os.path.join(os.getcwd(), os.pardir)))"
   ]
  },
  {
   "cell_type": "code",
   "execution_count": 2,
   "metadata": {},
   "outputs": [
    {
     "name": "stdout",
     "output_type": "stream",
     "text": [
      "Found 1 experiments.\n",
      "\n",
      "To download compressed data, click on the following URLs:\n",
      "https://neuroinformatics.nl/HBP/allen-connectivity-viewer/json/streamlines_113884251.json.gz\n",
      "\n",
      "\n",
      "To download JSON directly, go to: https://neuroinformatics.nl/HBP/allen-connectivity-viewer/streamline-downloader.html\n",
      "and  copy and paste the following experiments ID in the 'Enter the Allen Connectivity Experiment number:' field.\n",
      "You can copy and paste each individually or a list of IDs separated by a comma\n",
      "IDs: 113884251\n",
      "\n",
      "\n"
     ]
    },
    {
     "data": {
      "text/plain": [
       "array([113884251])"
      ]
     },
     "execution_count": 2,
     "metadata": {},
     "output_type": "execute_result"
    }
   ],
   "source": [
    "# parse .csv file\n",
    "extract_ids_from_csv(\"Examples/example_files/experiments_injections.csv\") # <- put the path to your downloaded file here"
   ]
  },
  {
   "cell_type": "markdown",
   "metadata": {},
   "source": [
    "The printed output of this function will give you the IDs of all the exeperiments. You can use these IDs to manually download streamline data from: [https://neuroinformatics.nl/HBP/allen-connectivity-viewer/streamline-downloader.html]. \n",
    "Alternatively, the function will print links for cached streamlined data, opening those link in a web browser will download compressed tractography data which you can then uncompress using free softwares like 7zip. \n",
    "\n",
    "Either way, after this step you should have .JSON files with streamlines data (one for each experiment).\n",
    "Thse .json files are what BrainRender uses to render streamlines. "
   ]
  },
  {
   "cell_type": "code",
   "execution_count": null,
   "metadata": {},
   "outputs": [
    {
     "name": "stdout",
     "output_type": "stream",
     "text": [
      "Error: Use addButton() after rendering the scene. \n"
     ]
    },
    {
     "name": "stderr",
     "output_type": "stream",
     "text": [
      "100%|██████████| 4/4 [00:12<00:00,  3.22s/it]"
     ]
    },
    {
     "name": "stdout",
     "output_type": "stream",
     "text": [
      "\n",
      "\n",
      "press 'Esc' to Quit\n",
      "Warning: Use showInset() after first rendering the scene. \n"
     ]
    },
    {
     "name": "stderr",
     "output_type": "stream",
     "text": [
      "\n"
     ]
    }
   ],
   "source": [
    "# Start by creating a scene\n",
    "scene = Scene(jupyter=True)\n",
    "\n",
    "# if you have all the .json files in a folder, where there are no other files, then you can use the 'listdir'\n",
    "# function to get the path to all the .json files:\n",
    "streamlines_files = listdir(\"Examples/example_files/streamlines\")\n",
    "\n",
    "# you can then pass this list of filepaths to add_streamlines.\n",
    "scene.add_streamlines(streamlines_files, color=\"green\")\n",
    "\n",
    "# alternative you can pass a string with the path to a single file or a list of paths to the .json files that you \n",
    "# created in some other way. \n",
    "\n",
    "# then you can just render your scene\n",
    "scene.render()"
   ]
  },
  {
   "cell_type": "markdown",
   "metadata": {},
   "source": [
    "add_streamliens takes a few arguments that let you personalize the look of the streamlines:\n",
    "* colorby: you can pass the acronym to a brain region, then the default color of that region will be used for the streamliens\n",
    "* color: alternatively you can specify the color of the streamlines directly.\n",
    "* alpha, radius: you can change the transparency and the thickness of the actors used to render the streamlines.\n",
    "\n",
    "Don't forget to check the other examples to lear more about how to use BrainRender to make amazing 3D renderings!\n",
    "Also, you can find a list of variables you can play around with in BrainRender.variables.py\n",
    "Playing around with these variables will allow you to make the rendering look exactly how you want them to be. "
   ]
  }
 ],
 "metadata": {
  "file_extension": ".py",
  "kernelspec": {
   "display_name": "Python 3",
   "language": "python",
   "name": "python3"
  },
  "language_info": {
   "codemirror_mode": {
    "name": "ipython",
    "version": 3
   },
   "file_extension": ".py",
   "mimetype": "text/x-python",
   "name": "python",
   "nbconvert_exporter": "python",
   "pygments_lexer": "ipython3",
   "version": "3.6.7"
  },
  "mimetype": "text/x-python",
  "name": "python",
  "npconvert_exporter": "python",
  "pygments_lexer": "ipython3",
  "version": 3
 },
 "nbformat": 4,
 "nbformat_minor": 2
}
