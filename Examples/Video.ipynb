{
 "cells": [
  {
   "cell_type": "markdown",
   "metadata": {},
   "source": [
    "# Videos\n",
    "This example shows how to use the VideoMaker class to create a simple animated video of a scene"
   ]
  },
  {
   "cell_type": "markdown",
   "metadata": {},
   "source": [
    "### Set up"
   ]
  },
  {
   "cell_type": "code",
   "execution_count": 1,
   "metadata": {},
   "outputs": [],
   "source": [
    "# We begin by adding the current path to sys.path to make sure that the imports work correctly\n",
    "import sys\n",
    "sys.path.append('../')\n",
    "import os\n",
    "\n",
    "# Set up VTKPLOTTER to work in Jupyter notebooks\n",
    "from vtkplotter import *\n",
    "embedWindow(backend=False) \n",
    "\n",
    "from BrainRender.settings import *\n",
    "main_fld = \"/Users/federicoclaudi/Dropbox (UCL - SWC)/Rotation_vte/analysis_metadata/anatomy\"\n",
    "folder_paths = update_folders(main_fld)\n",
    "\n",
    "from BrainRender.scene import Scene\n",
    "\n",
    "# Video creation is handled by the VideoMaker class, so we need to import it\n",
    "from BrainRender.videomaker import VideoMaker\n",
    "\n",
    "# Before populating the scene, we need to change the current working directory to the parent folder, \n",
    "# then we are ready to start!\n",
    "os.chdir(os.path.normpath(os.path.join(os.getcwd(), os.pardir)))\n",
    "\n"
   ]
  },
  {
   "cell_type": "markdown",
   "metadata": {},
   "source": [
    "### Create a scene and add some brain regions"
   ]
  },
  {
   "cell_type": "code",
   "execution_count": 2,
   "metadata": {},
   "outputs": [
    {
     "name": "stdout",
     "output_type": "stream",
     "text": [
      "Rendering: (VISp)\n",
      "Rendering: (MOs)\n",
      "Warning: Use showInset() after first rendering the scene. \n",
      "\n",
      "\n",
      "press 'Esc' to Quit\n"
     ]
    }
   ],
   "source": [
    "tutorial_scene = Scene(add_root=True, jupyter=True)\n",
    "tutorial_scene.add_brain_regions(['VISp', \"MOs\"], colors='blue') \n",
    "tutorial_scene.render()\n",
    "# To create a video you should crate the scene, but don't render it yet. "
   ]
  },
  {
   "cell_type": "markdown",
   "metadata": {},
   "source": [
    "### Create a video"
   ]
  },
  {
   "cell_type": "code",
   "execution_count": 3,
   "metadata": {},
   "outputs": [],
   "source": [
    "# Create an instance of video maker\n",
    "vm = VideoMaker(scene=tutorial_scene) # You can also add the scene at a later time with vm.add_scene(scene)"
   ]
  },
  {
   "cell_type": "code",
   "execution_count": 5,
   "metadata": {},
   "outputs": [
    {
     "ename": "ModuleNotFoundError",
     "evalue": "No module named 'BrainRender.videomaker'",
     "output_type": "error",
     "traceback": [
      "\u001b[0;31m---------------------------------------------------------------------------\u001b[0m",
      "\u001b[0;31mModuleNotFoundError\u001b[0m                       Traceback (most recent call last)",
      "\u001b[0;32m<ipython-input-5-c25c8ff62fb6>\u001b[0m in \u001b[0;36m<module>\u001b[0;34m\u001b[0m\n\u001b[0;32m----> 1\u001b[0;31m \u001b[0;32mfrom\u001b[0m \u001b[0mBrainRender\u001b[0m\u001b[0;34m.\u001b[0m\u001b[0mvideomaker\u001b[0m \u001b[0;32mimport\u001b[0m \u001b[0mVideoMaker\u001b[0m\u001b[0;34m\u001b[0m\u001b[0;34m\u001b[0m\u001b[0m\n\u001b[0m",
      "\u001b[0;31mModuleNotFoundError\u001b[0m: No module named 'BrainRender.videomaker'"
     ]
    }
   ],
   "source": [
    "# Creating a video is simply a matter of specifying what how the scene's camera should move (e.g. roll)\n",
    "# and how long should the animation last\n",
    "\n",
    "vm.make_video(\n",
    "            duration=3, # make  a 3s long video\n",
    "            azimuth=2, # change the azimuth\n",
    ")\n",
    "\n"
   ]
  },
  {
   "cell_type": "code",
   "execution_count": null,
   "metadata": {},
   "outputs": [],
   "source": []
  }
 ],
 "metadata": {
  "kernelspec": {
   "display_name": "'Python Interactive'",
   "language": "python",
   "name": "51e3b21f-aaf0-4db2-b28d-d7c7c392d273"
  },
  "language_info": {
   "codemirror_mode": {
    "name": "ipython",
    "version": 3
   },
   "file_extension": ".py",
   "mimetype": "text/x-python",
   "name": "python",
   "nbconvert_exporter": "python",
   "pygments_lexer": "ipython3",
   "version": "3.6.7"
  }
 },
 "nbformat": 4,
 "nbformat_minor": 2
}
