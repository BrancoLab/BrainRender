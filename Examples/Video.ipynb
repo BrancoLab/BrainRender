{
 "cells": [
  {
   "cell_type": "markdown",
   "metadata": {},
   "source": [
    "# Videos\n",
    "This example shows how to use the VideoMaker class to create a simple animated video of a scene"
   ]
  },
  {
   "cell_type": "markdown",
   "metadata": {},
   "source": [
    "### Set up"
   ]
  },
  {
   "cell_type": "code",
   "execution_count": null,
   "metadata": {},
   "outputs": [],
   "source": [
    "# We begin by adding the current path to sys.path to make sure that the imports work correctly\n",
    "import sys\n",
    "sys.path.append('../')\n",
    "import os\n",
    "\n",
    "# Set up VTKPLOTTER to work in Jupyter notebooks\n",
    "from vtkplotter import *\n",
    "embedWindow(backend=False) \n",
    "\n",
    "from BrainRender.settings import *\n",
    "main_fld = \"path_to_your_folder\"\n",
    "folders_paths = update_folders(main_fld)\n",
    "\n",
    "# Please check that the folder paths have been set correctly\n",
    "print(folders_paths['main_fld'])\n",
    "\n",
    "from BrainRender.scene import Scene\n",
    "\n",
    "# Video creation is handled by the VideoMaker class, so we need to import it\n",
    "from BrainRender.videomaker import VideoMaker\n",
    "\n",
    "# Before populating the scene, we need to change the current working directory to the parent folder, \n",
    "# then we are ready to start!\n",
    "os.chdir(os.path.normpath(os.path.join(os.getcwd(), os.pardir)))\n",
    "\n"
   ]
  },
  {
   "cell_type": "markdown",
   "metadata": {},
   "source": [
    "### Create a scene and add some brain regions"
   ]
  },
  {
   "cell_type": "code",
   "execution_count": null,
   "metadata": {},
   "outputs": [],
   "source": [
    "tutorial_scene = Scene(add_root=True, jupyter=True)\n",
    "tutorial_scene.add_brain_regions(['VISp', \"MOs\"], colors='blue') \n",
    "\n",
    "# To create a video you should crate the scene, but don't render it yet. "
   ]
  },
  {
   "cell_type": "markdown",
   "metadata": {},
   "source": [
    "### Create a video"
   ]
  },
  {
   "cell_type": "code",
   "execution_count": null,
   "metadata": {},
   "outputs": [],
   "source": [
    "# Create an instance of video maker\n",
    "vm = VideoMaker(scene=tutorial_scene) # You can also add the scene at a later time with vm.add_scene(scene)"
   ]
  },
  {
   "cell_type": "code",
   "execution_count": null,
   "metadata": {},
   "outputs": [],
   "source": [
    "# Creating a video is simply a matter of specifying what how the scene's camera should move (e.g. roll)\n",
    "# and how long should the animation last\n",
    "\n",
    "vm.make_video(\n",
    "            videoname = \"VISpMOs.mp4\"\n",
    "            duration=3, # make  a 3s long video\n",
    "            azimuth=2, # change the azimuth\n",
    ")\n",
    "\n"
   ]
  },
  {
   "cell_type": "markdown",
   "metadata": {},
   "source": [
    "Have fun playing with the azimuth, roll and elevation options to animate the scene differently!"
   ]
  }
 ],
 "metadata": {
  "kernelspec": {
   "display_name": "Python 3",
   "language": "python",
   "name": "python3"
  },
  "language_info": {
   "codemirror_mode": {
    "name": "ipython",
    "version": 3
   },
   "file_extension": ".py",
   "mimetype": "text/x-python",
   "name": "python",
   "nbconvert_exporter": "python",
   "pygments_lexer": "ipython3",
   "version": "3.6.6"
  }
 },
 "nbformat": 4,
 "nbformat_minor": 2
}
