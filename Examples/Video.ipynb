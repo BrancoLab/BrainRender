{
 "cells": [
  {
   "cell_type": "markdown",
   "metadata": {},
   "source": [
    "# Videos\n",
    "This tutorial will show you how to use the VideoMaker and Scene classes to create a scene and save an animation of it as a video file. \n",
    "\n",
    "### Set up."
   ]
  },
  {
   "cell_type": "code",
   "execution_count": null,
   "metadata": {},
   "outputs": [],
   "source": [
    "# We begin by adding the current path to sys.path to make sure that the imports work correctly\n",
    "import sys\n",
    "sys.path.append('../')\n",
    "import os\n",
    "\n",
    "# Set up VTKPLOTTER to work in Jupyter notebooks\n",
    "from vtkplotter import *\n",
    "embedWindow(backend=False) \n",
    "\n",
    "# Import variables\n",
    "from brainrender.variables import * # <- these can be changed to personalize the look of your renders\n",
    "\n",
    "# Import brainrender classes and useful functions\n",
    "from brainrender.scene import Scene\n",
    "from brainrender.Utils.videomaker import VideoMaker\n",
    "\n",
    "# Before populating the scene, we need to change the current working directory to the parent folder, \n",
    "# then we are ready to start!\n",
    "os.chdir(os.path.normpath(os.path.join(os.getcwd(), os.pardir)))"
   ]
  },
  {
   "cell_type": "code",
   "execution_count": null,
   "metadata": {},
   "outputs": [],
   "source": [
    "# Create a scene, populate it, but DON'T render it just yet. \n",
    "# Or rendere it with interactive=False.\n",
    "scene = Scene(jupyter=True)\n",
    "scene.add_brain_regions(['MOs', 'MOp'], colors='ivory')\n"
   ]
  },
  {
   "cell_type": "code",
   "execution_count": null,
   "metadata": {},
   "outputs": [],
   "source": [
    "# Get a video maker\n",
    "vm = VideoMaker(scene, savefile=\"Output/Videos/video.mp4\", niters=100)\n",
    "\n",
    "# Make a video!\n",
    "vm.make_video(elevation=1, roll=5)"
   ]
  },
  {
   "cell_type": "markdown",
   "metadata": {},
   "source": [
    "The `make_video` class allows you to specify rotation along any of the 3 axes (roll, elevation and pitch). \n",
    "If you want to make more complex animations, you'll have to define a function that manipulates the scene accordingly (see `vtkPlotter` examples on this). Then, you can pass this function to `VideoMaker` to crate the video: `vm.make_video_custom(myfunc)`."
   ]
  }
 ],
 "metadata": {
  "kernelspec": {
   "display_name": "Python 3",
   "language": "python",
   "name": "python3"
  },
  "language_info": {
   "codemirror_mode": {
    "name": "ipython",
    "version": 3
   },
   "file_extension": ".py",
   "mimetype": "text/x-python",
   "name": "python",
   "nbconvert_exporter": "python",
   "pygments_lexer": "ipython3",
   "version": "3.6.7"
  }
 },
 "nbformat": 4,
 "nbformat_minor": 2
}
