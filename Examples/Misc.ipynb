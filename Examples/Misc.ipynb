{
 "cells": [
  {
   "cell_type": "markdown",
   "metadata": {},
   "source": [
    "# Miscellaneous\n",
    "Collection of useful functions and tricks to get the most out of BrainRender\n",
    "\n",
    "### Set up"
   ]
  },
  {
   "cell_type": "code",
   "execution_count": null,
   "metadata": {},
   "outputs": [],
   "source": [
    "# We begin by adding the current path to sys.path to make sure that the imports work correctly\n",
    "import sys\n",
    "sys.path.append('../')\n",
    "import os\n",
    "\n",
    "# Set up VTKPLOTTER to work in Jupyter notebooks\n",
    "from vtkplotter import *\n",
    "embedWindow(backend=False) \n",
    "\n",
    "# Import variables\n",
    "from BrainRender.variables import * # <- these can be changed to personalize the look of your renders\n",
    "\n",
    "# Import BrainRender classes and useful functions\n",
    "from BrainRender.scene import Scene\n",
    "\n",
    "# Before populating the scene, we need to change the current working directory to the parent folder, \n",
    "# then we are ready to start!\n",
    "os.chdir(os.path.normpath(os.path.join(os.getcwd(), os.pardir)))"
   ]
  },
  {
   "cell_type": "markdown",
   "metadata": {},
   "source": [
    "## Transparency slider\n",
    "Sometimes, you want to be able to easily manipulate the transparency of some meshes to see your scene better. \n",
    "`Scene` can let you add a slider that does just that:"
   ]
  },
  {
   "cell_type": "code",
   "execution_count": null,
   "metadata": {},
   "outputs": [],
   "source": [
    "scene = Scene(jupyter=True)\n",
    "\n",
    "scene.add_brain_regions(['MOs', 'MOp'], colors='red')\n",
    "scene.add_slider(brain_regions=[\"root\"])\n",
    "\n",
    "scene.render()\n",
    "\n"
   ]
  },
  {
   "cell_type": "markdown",
   "metadata": {},
   "source": [
    "### Edit actors\n",
    "You can change the look of actors very easily. Check `BrainRender.Utils.actors_funcs.py` for more options. "
   ]
  },
  {
   "cell_type": "code",
   "execution_count": null,
   "metadata": {},
   "outputs": [],
   "source": [
    "scene = Scene(jupyter=True)\n",
    "\n",
    "scene.add_brain_regions(['MOs', 'MOp'], colors='red')\n",
    "scene.edit_actors([scene.actors['regions']['MOs']], wireframe=True)\n",
    "\n",
    "scene.render()"
   ]
  },
  {
   "cell_type": "markdown",
   "metadata": {},
   "source": [
    "### Useful functions\n",
    "`Scene.Slice` let's you slice the scene (e.g. get a sagittal section of the brain showing only the right hemisphere).\n",
    "\n",
    "`Scene.get_n_rando_points_in_region` let's you generate N random points in a brain region. It can be usefull when working with tractography data. For large brain regions projections to different locations within the region might differ, this function lets you sample the target region more copmletely. \n",
    "\n",
    "`Scene.edit_neurons` Can be used to edit neuron actors (e.g. mirror them across hemispheres). To get the neurons actors just use `Scene.actors['neurons']`."
   ]
  }
 ],
 "metadata": {
  "kernelspec": {
   "display_name": "Python 3",
   "language": "python",
   "name": "python3"
  },
  "language_info": {
   "codemirror_mode": {
    "name": "ipython",
    "version": 3
   },
   "file_extension": ".py",
   "mimetype": "text/x-python",
   "name": "python",
   "nbconvert_exporter": "python",
   "pygments_lexer": "ipython3",
   "version": "3.7.5"
  }
 },
 "nbformat": 4,
 "nbformat_minor": 2
}
