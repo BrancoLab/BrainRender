{
 "cells": [
  {
   "cell_type": "markdown",
   "metadata": {},
   "source": [
    "# Neurons tutorial\n",
    "\n",
    "<img src=\"../Docs/Media/m1th_2.png\" width=\"600\" height=\"350\">\n",
    "\n",
    "\n",
    "\n",
    "brainrender let's you visualize neuron morphology in the context of the Allen Mouse brain atlas. \n",
    "Currently brainrender can visualize any morpholy data presented as .swc file, but only supports direct interaction with the MouseLight API. In the future, .swc data from the Allen API will also be available. \n",
    "\n",
    "To get morphology data from Janelia's MouseLight, you have to options (see [the userguid](../Docs/UserGuide.md) for more details.: \n",
    "* Download them manually from the Neurons Browser online\n",
    "* Download them using brainrender.\n",
    "\n",
    "In this tutorial we will focus on using brainrender to fetch neurons data and render it, if you've downloaded the data alread skip the fetching and get started renering!\n",
    "\n",
    "### Set up"
   ]
  },
  {
   "cell_type": "code",
   "execution_count": null,
   "metadata": {},
   "outputs": [],
   "source": [
    "# We begin by adding the current path to sys.path to make sure that the imports work correctly\n",
    "import sys\n",
    "sys.path.append('../')\n",
    "import os\n",
    "\n",
    "# Set up VTKPLOTTER to work in Jupyter notebooks\n",
    "from vtkplotter import *\n",
    "embedWindow(backend=False) \n",
    "\n",
    "# Import variables\n",
    "from brainrender import * # <- these can be changed to personalize the look of your renders\n",
    "\n",
    "# Import brainrender classes and useful functions\n",
    "from brainrender.scene import Scene\n",
    "from brainrender.Utils.parsers.mouselight import NeuronsParser\n",
    "from brainrender.Utils.MouseLightAPI.mouselight_api import MouseLightAPI\n",
    "from brainrender.Utils.MouseLightAPI.mouselight_info import mouselight_api_info, mouselight_fetch_neurons_metadata\n",
    "from brainrender.Utils.data_io import listdir\n",
    "\n",
    "# Before populating the scene, we need to change the current working directory to the parent folder, \n",
    "# then we are ready to start!\n",
    "os.chdir(os.path.normpath(os.path.join(os.getcwd(), os.pardir)))"
   ]
  },
  {
   "cell_type": "markdown",
   "metadata": {},
   "source": [
    "## Mouse Light API\n",
    "This shows you how to download morphology data using brainrender, if you have the data alread, skip ahead to the next section."
   ]
  },
  {
   "cell_type": "code",
   "execution_count": null,
   "metadata": {},
   "outputs": [],
   "source": [
    "# To see how many neurons are available in the Mouse Light database:\n",
    "print(mouselight_api_info())"
   ]
  },
  {
   "cell_type": "code",
   "execution_count": null,
   "metadata": {},
   "outputs": [],
   "source": [
    "# To download neurons, first we need to get metdata about the neurons in the database\n",
    "neurons_metadata = mouselight_fetch_neurons_metadata()\n",
    "\n",
    "# If instead we want to only get neurons whose soma is in a region of interest:\n",
    "print(\"\\nLet's get only the neurons in the secondary motor cortex.\")\n",
    "neurons_metadata = mouselight_fetch_neurons_metadata(filterby='soma', filter_regions=['MOs'])\n",
    "\n",
    "# Then we can download the files and save them as a .json file\n",
    "# First create an instance of the mouselight API class\n",
    "ml_api = MouseLightAPI() \n",
    "\n",
    "# Then download neurons\n",
    "neurons_files =  ml_api.download_neurons(neurons_metadata[:2]) # just saving the first couple neurons to speed things up"
   ]
  },
  {
   "cell_type": "markdown",
   "metadata": {},
   "source": [
    "Note that, since the neurons morphologies are saved as a .json file for each neuron, you'll have to download the data only once. If you are rendering a neuron for the second time, brainrender will simply fetch the saved data. "
   ]
  },
  {
   "cell_type": "markdown",
   "metadata": {},
   "source": [
    "### Render neurons"
   ]
  },
  {
   "cell_type": "code",
   "execution_count": null,
   "metadata": {},
   "outputs": [],
   "source": [
    "# if you didn't download the files above, you can get one from the examples files\n",
    "neurons_files = \"Examples/example_files/one_neuron.json\""
   ]
  },
  {
   "cell_type": "code",
   "execution_count": null,
   "metadata": {},
   "outputs": [],
   "source": [
    "# Create the actors for the neurons to render\n",
    "# create an instance of the neuron parser class, passing the options to specify how to render the neurons\n",
    "parser = NeuronsParser(scene=tutorial_scene, \n",
    "                         color_neurites=True, axon_color=\"antiquewhite\", \n",
    "                         soma_color=\"darkgoldenrod\", dendrites_color=\"firebrick\")\n",
    "\n",
    "# Then simply render neurons\n",
    "neurons, regions = parser.render_neurons(neurons_files)\n",
    "\n",
    "# You can also specify the rendering options by passing the  keyword arguments to .render_neurons"
   ]
  },
  {
   "cell_type": "markdown",
   "metadata": {},
   "source": [
    "Parsing neurons is a slow business. For this reason brainrender caches the results of the parsing, making subsequent renderings of the same neuron very fast!"
   ]
  },
  {
   "cell_type": "code",
   "execution_count": null,
   "metadata": {},
   "outputs": [],
   "source": [
    "# Show neurons and ZI in the same scene:\n",
    "tutorial_scene = Scene()\n",
    "tutorial_scene.add_neurons(neurons) # ! don't forget to add the neurons actors to the scene\n",
    "tutorial_scene.add_brain_regions(['ZI'], colors='white', alpha=0.5) # add the ZonaIncerta to our scene\n",
    "tutorial_scene.render() "
   ]
  },
  {
   "cell_type": "markdown",
   "metadata": {},
   "source": [
    "You can also create the neurons models and add them to the scene in one step"
   ]
  },
  {
   "cell_type": "code",
   "execution_count": null,
   "metadata": {},
   "outputs": [],
   "source": [
    "tutorial_scene = Scene()\n",
    "tutorial_scene.add_neurons(neurons_files, soma_color='red', color_neurites=False)# this will take care of rendering and adding to scene\n",
    "tutorial_scene.add_brain_regions(['ZI'], colors='white', alpha=0.5) # add the ZonaIncerta to our scene\n",
    "tutorial_scene.render()"
   ]
  },
  {
   "cell_type": "markdown",
   "metadata": {},
   "source": [
    "But rendering multiple neurons may take a couple minutes, so you can also save the actors as a variable and use \n",
    "them repeatedly"
   ]
  },
  {
   "cell_type": "code",
   "execution_count": null,
   "metadata": {},
   "outputs": [],
   "source": [
    "tutorial_scene = Scene()\n",
    "\n",
    "neurons_files = \"Examples/example_files/axons_in_CA1.json\"\n",
    "# To color soma, dendrites and axon with different colors, set color_neurites as True and \n",
    "# specify the colors for the different parts of the neurons\n",
    "neurons, regions = parser.render_neurons(neurons_files, scene=tutorial_scene, \n",
    "                         color_neurites=True, axon_color=\"antiquewhite\", \n",
    "                         soma_color=\"darkgoldenrod\", dendrites_color=\"firebrick\")"
   ]
  },
  {
   "cell_type": "code",
   "execution_count": null,
   "metadata": {},
   "outputs": [],
   "source": [
    "tutorial_scene.add_neurons(neurons) # you can pass keyword arguments to this function to edit the look of the neurons\n",
    "# it takes the same arguments as \"render_neurons\"\n",
    "tutorial_scene.add_brain_regions(['CA1'], colors='green', alpha=0.5) # add the ZonaIncerta to our scene\n",
    "tutorial_scene.render() "
   ]
  },
  {
   "cell_type": "markdown",
   "metadata": {},
   "source": [
    "If you have a scene with some neurons already in it. You can change their appearence with `.edit_neurons`, withouth having to render them again"
   ]
  },
  {
   "cell_type": "markdown",
   "metadata": {},
   "source": [
    "### Other ways to change the aspect of neurons"
   ]
  },
  {
   "cell_type": "code",
   "execution_count": null,
   "metadata": {},
   "outputs": [],
   "source": [
    "# You can also make it so that each neuron has a different random color.\n",
    "tutorial_scene = Scene()\n",
    "\n",
    "neurons_files = \"Examples/example_files/neurons_in_Striatum.json\"\n",
    "first, _ = parser.render_neurons(neurons_files, scene=tutorial_scene, color_neurites=False, random_color=True)\n",
    "neurons_files = \"Examples/example_files/one_neuron.json\"\n",
    "second, _ = parser.render_neurons(neurons_files, scene=tutorial_scene, color_neurites=False, random_color=True)\n",
    "\n",
    "\n",
    "tutorial_scene.add_neurons(first)\n",
    "tutorial_scene.add_neurons(second)\n",
    "\n",
    "tutorial_scene.render() "
   ]
  },
  {
   "cell_type": "markdown",
   "metadata": {},
   "source": [
    "You can pass a string (e.g. `hot`) as value for `random_color` to have the neurons have a random color drawn from a colormap. "
   ]
  },
  {
   "cell_type": "code",
   "execution_count": null,
   "metadata": {},
   "outputs": [],
   "source": [
    "# Finally, you can decide how big to make the neurites, or not to show them at all\n",
    "tutorial_scene = Scene()\n",
    "tutorial_scene.add_neurons(neurons_file, soma_color='red', render_neurites=False)\n",
    "tutorial_scene.render()"
   ]
  },
  {
   "cell_type": "code",
   "execution_count": null,
   "metadata": {},
   "outputs": [],
   "source": [
    "tutorial_scene = Scene()\n",
    "tutorial_scene.add_neurons(neurons_file, soma_color='red', neurites_radius=50)\n",
    "tutorial_scene.render()"
   ]
  },
  {
   "cell_type": "markdown",
   "metadata": {},
   "source": [
    "### Other options\n",
    "You can also have the brain regions that the neurons go through rendered. "
   ]
  },
  {
   "cell_type": "code",
   "execution_count": null,
   "metadata": {},
   "outputs": [],
   "source": [
    "# Create a scene, add neurons and show the regions that the axons go through. \n",
    "neurons_file = \"Examples/example_files/neurons_in_Striatum.json\"\n",
    "\n",
    "scene = Scene()\n",
    "scene.add_neurons(neuron_file, color_neurites=False, random_color=\"jet\", display_axon_regions=True)\n",
    "scene.render()"
   ]
  },
  {
   "cell_type": "markdown",
   "metadata": {},
   "source": [
    "There are more options that you can use to change the look of the rendered neurons:\n",
    "* force_to_hemisphere: makes sure that the soma of all neurons is in the hemisphere of your choice. \n",
    "* color_by_region: gives the neurons the standard allen mouse atlas color for the region their soma is in\n",
    "* mirror: crates a mirror version of each neuron in both hemispheres. \n",
    "\n",
    "Don't forget that you can also change the appearance of rendered neurons by using the 'edit_neurons' function of the Scene class. "
   ]
  },
  {
   "cell_type": "markdown",
   "metadata": {},
   "source": [
    "Don't forget to check the other examples to lear more about how to use brainrender to make amazing 3D renderings!\n",
    "Also, you can find a list of variables you can play around with in brainrender.variables.py\n",
    "Playing around with these variables will allow you to make the rendering look exactly how you want them to be. "
   ]
  }
 ],
 "metadata": {
  "kernelspec": {
   "display_name": "Python 3",
   "language": "python",
   "name": "python3"
  },
  "language_info": {
   "codemirror_mode": {
    "name": "ipython",
    "version": 3
   },
   "file_extension": ".py",
   "mimetype": "text/x-python",
   "name": "python",
   "nbconvert_exporter": "python",
   "pygments_lexer": "ipython3",
   "version": "3.7.5"
  }
 },
 "nbformat": 4,
 "nbformat_minor": 2
}