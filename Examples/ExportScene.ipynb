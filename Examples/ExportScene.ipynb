{
 "cells": [
  {
   "cell_type": "markdown",
   "metadata": {},
   "source": [
    "In this tutorial you will learn how to export and import scene from BrainRender\n"
   ]
  },
  {
   "cell_type": "code",
   "execution_count": null,
   "metadata": {},
   "outputs": [],
   "source": [
    "# We start with the usual set up code\n",
    "# We begin by adding the current path to sys.path to make sure that the imports work correctly\n",
    "import sys\n",
    "sys.path.append('../')\n",
    "import os\n",
    "\n",
    "# Set up VTKPLOTTER to work in Jupyter notebooks\n",
    "from vtkplotter import *\n",
    "embedWindow(backend=False) \n",
    "\n",
    "from BrainRender.settings import *\n",
    "main_fld = \"path_to_your_folder\"\n",
    "folders_paths = update_folders(main_fld)\n",
    "\n",
    "# Please check that the folder paths have been set correctly\n",
    "print(folders_paths['main_fld'])\n",
    "\n",
    "from BrainRender.scene import Scene, LoadedScene\n",
    "\n",
    "# Before populating the scene, we need to change the current working directory to the parent folder, \n",
    "# then we are ready to start!\n",
    "os.chdir(os.path.normpath(os.path.join(os.getcwd(), os.pardir)))"
   ]
  },
  {
   "cell_type": "markdown",
   "metadata": {},
   "source": [
    "To save a scene to file you need to create, populate and render a scene"
   ]
  },
  {
   "cell_type": "code",
   "execution_count": null,
   "metadata": {},
   "outputs": [],
   "source": [
    "# create a scene and add some cortical regions\n",
    "tutorial_scene = Scene(jupyter=True)\n",
    "tutorial_scene.add_brain_regions(['VISp', 'MOs', 'MOp'], colors='blue') # add the PAG to our scene\n",
    "\n",
    "# render the scene, but make sure to not make it interactive.\n",
    "tutorial_scene.render(interactive=False)\n",
    "\n",
    "# Making the scene interactive would make the program stop until the window is closed, and the following line wouldn't be exectured\n",
    "tutorial_scene.export_scene(savename=\"exported_scene\") # to not save the scene in the default output folder you can pass save_dir to another path\n",
    "\n",
    "# Now close the window\n",
    "closeWindow()"
   ]
  },
  {
   "cell_type": "markdown",
   "metadata": {},
   "source": [
    "This will have saved the scene as a numpy file, to load the scene we need to use the LoadedScene class"
   ]
  },
  {
   "cell_type": "code",
   "execution_count": null,
   "metadata": {},
   "outputs": [],
   "source": [
    "loaded_scene = LoadedScene(filepath=\"path to your saved scene\")\n",
    "loaded_scene.render()"
   ]
  }
 ],
 "metadata": {
  "kernelspec": {
   "display_name": "Python 3",
   "language": "python",
   "name": "python3"
  },
  "language_info": {
   "codemirror_mode": {
    "name": "ipython",
    "version": 3
   },
   "file_extension": ".py",
   "mimetype": "text/x-python",
   "name": "python",
   "nbconvert_exporter": "python",
   "pygments_lexer": "ipython3",
   "version": "3.6.7"
  }
 },
 "nbformat": 4,
 "nbformat_minor": 2
}
