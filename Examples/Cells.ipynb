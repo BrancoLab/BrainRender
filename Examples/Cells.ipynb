{
 "cells": [
  {
   "cell_type": "markdown",
   "metadata": {},
   "source": [
    "# Cells\n",
    "In this examples I'll show how to render a large number of cells in your scene. \n",
    "This can be useful when visualizing the results of tracking experiments after they have been aligned to the allen brain atlas reference frame. \n",
    "\n",
    "<img src=\"../Docs/Media/cells.png\" width=\"600\" height=\"350\">\n",
    "\n",
    "\n",
    "\n",
    "### set up"
   ]
  },
  {
   "cell_type": "code",
   "execution_count": 1,
   "metadata": {},
   "outputs": [],
   "source": [
    "# We begin by adding the current path to sys.path to make sure that the imports work correctly\n",
    "import sys\n",
    "sys.path.append('../')\n",
    "import os\n",
    "\n",
    "# Set up VTKPLOTTER to work in Jupyter notebooks\n",
    "from vtkplotter import *\n",
    "embedWindow(backend=False) \n",
    "\n",
    "# Import variables\n",
    "from BrainRender.variables import * # <- these can be changed to personalize the look of your renders\n",
    "\n",
    "# Import BrainRender classes and useful functions\n",
    "from BrainRender.scene import Scene\n",
    "from BrainRender.Utils.data_io import listdir\n",
    "\n",
    "# Before populating the scene, we need to change the current working directory to the parent folder, \n",
    "# then we are ready to start!\n",
    "os.chdir(os.path.normpath(os.path.join(os.getcwd(), os.pardir)))"
   ]
  },
  {
   "cell_type": "markdown",
   "metadata": {},
   "source": [
    "## Get data\n",
    "To keep things interesting, we will generate N random \"cells\" in a number of regions of interest. \n",
    "These coordinates will then be used to render the cells. \n",
    "If you have your coordinates saved in a file (e.g. a .csv or .h5 or .pkl), you can use `Scene.add_cells_from_file` and skip this next step. "
   ]
  },
  {
   "cell_type": "code",
   "execution_count": 3,
   "metadata": {},
   "outputs": [
    {
     "name": "stdout",
     "output_type": "stream",
     "text": [
      "Error: Use addButton() after rendering the scene. \n",
      "Rendering: (MOs)\n",
      "Rendering: (VISp)\n",
      "Rendering: (ZI)\n",
      "\n",
      "Running a quick experiment to get cell coordinates...\n",
      "\n",
      "Rendering...\n",
      "\n",
      "\n",
      "press 'Esc' to Quit\n",
      "Warning: Use showInset() after first rendering the scene. \n"
     ]
    }
   ],
   "source": [
    "# Create a scene\n",
    "scene = Scene(jupyter=True)\n",
    "\n",
    "# Define in which regions to crate the cells and how many\n",
    "regions = [\"MOs\", \"VISp\", \"ZI\"]\n",
    "N = 1000 # getting 1k cells per region, but BrainRender can deal with >1M cells easily. \n",
    "\n",
    "# Render brain regions and add transparency slider.\n",
    "scene.add_brain_regions(regions, colors=\"ivory\", alpha=.8)\n",
    "scene.add_slider(brain_regions=regions)\n",
    "\n",
    "print(\"\\nRunning a quick experiment to get cell coordinates...\")\n",
    "cells = [] # to store x,y,z coordinates\n",
    "for region in regions:\n",
    "    region_cells = scene.get_n_rando_points_in_region(region=region, N=N)\n",
    "    cells.extend(region_cells)\n",
    "    \n",
    "# render cells\n",
    "print(\"\\nRendering...\")\n",
    "scene.add_cells(cells, color=\"red\")\n",
    "scene.render()"
   ]
  }
 ],
 "metadata": {
  "kernelspec": {
   "display_name": "Python 3",
   "language": "python",
   "name": "python3"
  },
  "language_info": {
   "codemirror_mode": {
    "name": "ipython",
    "version": 3
   },
   "file_extension": ".py",
   "mimetype": "text/x-python",
   "name": "python",
   "nbconvert_exporter": "python",
   "pygments_lexer": "ipython3",
   "version": "3.7.5"
  }
 },
 "nbformat": 4,
 "nbformat_minor": 2
}
