{
 "cells": [
  {
   "cell_type": "markdown",
   "metadata": {},
   "source": [
    "# MultiScene tutorial\n",
    "In this tutorial you will learn how to create scenes with multiple views and specify what gets rendered in which scene. \n",
    "\n",
    "<img src=\"../Docs/Media/multiscene_1.png\" width=\"600\" height=\"350\">\n",
    "\n",
    "We start with the classic set up code. \n",
    "### Setup"
   ]
  },
  {
   "cell_type": "code",
   "execution_count": 1,
   "metadata": {},
   "outputs": [],
   "source": [
    "# We begin by adding the current path to sys.path to make sure that the imports work correctly\n",
    "import sys\n",
    "sys.path.append('../')\n",
    "import os\n",
    "\n",
    "# Set up VTKPLOTTER to work in Jupyter notebooks\n",
    "from vtkplotter import *\n",
    "embedWindow(backend=False) \n",
    "\n",
    "# Import variables\n",
    "from BrainRender.variables import * # <- these can be changed to personalize the look of your renders\n",
    "\n",
    "# Import BrainRender classes and useful functions\n",
    "from BrainRender.scene import DualScene, MultiScene\n",
    "\n",
    "\n",
    "# Before populating the scene, we need to change the current working directory to the parent folder, \n",
    "# then we are ready to start!\n",
    "os.chdir(os.path.normpath(os.path.join(os.getcwd(), os.pardir)))"
   ]
  },
  {
   "cell_type": "markdown",
   "metadata": {},
   "source": [
    "MultiScene and DualScene behave identically, the only difference is that DualScene is limited to only two views while MultiScene can handle more. Therefore for this tutorial we will focus on MultiScene."
   ]
  },
  {
   "cell_type": "code",
   "execution_count": 2,
   "metadata": {},
   "outputs": [],
   "source": [
    "multiscene = MultiScene(4, jupyter=True) # <- specify the number of simultaneous views you want\n",
    "# MultiScene takes the same arguments as the standard Scene does, for instance to create a multi\n",
    "# scene in which the root brain object is not displayed you can pass add_root=False to it."
   ]
  },
  {
   "cell_type": "markdown",
   "metadata": {},
   "source": [
    "You can then specify what get's rendered in which scene"
   ]
  },
  {
   "cell_type": "code",
   "execution_count": 3,
   "metadata": {},
   "outputs": [
    {
     "name": "stdout",
     "output_type": "stream",
     "text": [
      "Rendering: (VISp)\n",
      "Rendering: (MOs)\n",
      "Structures found to be projecting to target: \n",
      "     -- (VISp)\n",
      "     -- (AM)\n",
      "     -- (VISpor)\n",
      "     -- (AId)\n",
      "     -- (RSPv)\n",
      "     -- (AUDp)\n",
      "     -- (ENTm)\n",
      "     -- (LP)\n",
      "     -- (LGd)\n",
      "     -- (VISam)\n",
      "     -- (VISl)\n",
      "     -- (PVH)\n",
      "     -- (AUDpo)\n",
      "     -- (LA)\n",
      "     -- (POST)\n",
      "     -- (VISli)\n",
      "     -- (VISrl)\n",
      "     -- (LHA)\n",
      "     -- (LD)\n",
      "     -- (CLA)\n",
      "     -- (NDB)\n",
      "     -- (SI)\n",
      "     -- (ENTl)\n",
      "     -- (CP)\n",
      "     -- (LGv)\n",
      "     -- (ORBvl)\n",
      "     -- (AUDv)\n",
      "     -- (SUB)\n",
      "     -- (ECT)\n",
      "     -- (SSs)\n",
      "     -- (CM)\n",
      "     -- (VISpm)\n",
      "     -- (MEA)\n",
      "     -- (PF)\n",
      "     -- (MD)\n",
      "     -- (VISal)\n",
      "     -- (AUDd)\n",
      "     -- (ACAd)\n",
      "     -- (SCs)\n",
      "     -- (RSPd)\n",
      "     -- (VISC)\n",
      "     -- (VPM)\n",
      "     -- (GPe)\n",
      "     -- (ORBm)\n",
      "     -- (RPO)\n",
      "     -- (PO)\n",
      "Rendering complete\n"
     ]
    }
   ],
   "source": [
    "# Add some brain regions\n",
    "multiscene.scenes[0].add_brain_regions(['VISp', 'MOs'], colors='ivory', alpha=.6)\n",
    "\n",
    "# Add a sphere to the center of mass of the secondary motor cortex in the right hemisphere\n",
    "p0 = multiscene.scenes[0].get_region_CenterOfMass(\"MOs\", unilateral=True)\n",
    "multiscene.scenes[1].add_sphere_at_point(pos=p0, color='red')\n",
    "\n",
    "# Add some tractography data for the primary visual cortex\n",
    "p0 = multiscene.scenes[0].get_region_CenterOfMass(\"VISp\", unilateral=True)\n",
    "tract = multiscene.scenes[0].get_projection_tracts_to_target(p0)\n",
    "multiscene.scenes[2].add_tractography(tract, color_by=\"region\", display_injection_structure=False)\n",
    "\n",
    "# Render neurons in MOs\n",
    "multiscene.scenes[3].add_neurons(\"Examples/example_files/one_neuron.json\", \n",
    "            color_neurites=False, color_by_region=True, force_to_hemisphere=\"right\")\n",
    "\n",
    "# and then just render them all\n",
    "multiscene.render()"
   ]
  },
  {
   "cell_type": "code",
   "execution_count": null,
   "metadata": {},
   "outputs": [],
   "source": []
  }
 ],
 "metadata": {
  "kernelspec": {
   "display_name": "Python 3",
   "language": "python",
   "name": "python3"
  },
  "language_info": {
   "codemirror_mode": {
    "name": "ipython",
    "version": 3
   },
   "file_extension": ".py",
   "mimetype": "text/x-python",
   "name": "python",
   "nbconvert_exporter": "python",
   "pygments_lexer": "ipython3",
   "version": "3.7.5"
  }
 },
 "nbformat": 4,
 "nbformat_minor": 2
}
