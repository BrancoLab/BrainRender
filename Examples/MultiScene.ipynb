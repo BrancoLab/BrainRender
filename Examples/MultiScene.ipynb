{
 "cells": [
  {
   "cell_type": "markdown",
   "metadata": {},
   "source": [
    "# MultiScene tutorial\n",
    "In this tutorial you will learn how to create scenes with multiple views and specify what gets rendered in which scene. \n",
    "\n",
    "<img src=\"../Screenshots/multiscene_1.png\" width=\"600\" height=\"350\">\n",
    "\n",
    "We start with the classic set up code. \n",
    "### Setup"
   ]
  },
  {
   "cell_type": "code",
   "execution_count": null,
   "metadata": {},
   "outputs": [],
   "source": [
    "# We begin by adding the current path to sys.path to make sure that the imports work correctly\n",
    "import sys\n",
    "sys.path.append('../')\n",
    "import os\n",
    "\n",
    "# Set up VTKPLOTTER to work in Jupyter notebooks\n",
    "from vtkplotter import *\n",
    "embedWindow(backend=False) \n",
    "\n",
    "# Get the Mouse Light data loader function\n",
    "from BrainRender.Utils.mouselight_parser import NeuronsParser \n",
    "\n",
    "from BrainRender.settings import *\n",
    "from BrainRender.Utils.data_io import update_folders\n",
    "\n",
    "main_fld = \"path_to_your_folder\"\n",
    "update_folders(main_fld)\n",
    "\n",
    "# Please check that the folder paths have been set correctly\n",
    "print(folders_paths['main_fld'])\n",
    "\n",
    "\n",
    "from BrainRender.scene import DualScene, MultiScene\n",
    "\n",
    "\n",
    "# Before populating the scene, we need to change the current working directory to the parent folder, \n",
    "# then we are ready to start!\n",
    "os.chdir(os.path.normpath(os.path.join(os.getcwd(), os.pardir)))"
   ]
  },
  {
   "cell_type": "markdown",
   "metadata": {},
   "source": [
    "Notice line 21 where we are importing the multi scene classes. \n",
    "\n",
    "MultiScene and DualScene behave identically, the only difference is that DualScene is limited to only two views while MultiScene can handle more. Therefore for this tutorial we will focus on MultiScene."
   ]
  },
  {
   "cell_type": "code",
   "execution_count": null,
   "metadata": {},
   "outputs": [],
   "source": [
    "multiscene = MultiScene(4) # <- specify the number of simultaneous views you want\n",
    "# MultiScene takes the same arguments as the standard Scene does, for instance to create a multi\n",
    "# scene in which the root brain object is not displayed you can pass add_root=False to it."
   ]
  },
  {
   "cell_type": "markdown",
   "metadata": {},
   "source": [
    "You can then specify what get's rendered in which scene"
   ]
  },
  {
   "cell_type": "code",
   "execution_count": null,
   "metadata": {},
   "outputs": [],
   "source": [
    "# Add some brain regions\n",
    "multiscene.scenes[0].add_brain_regions(['VISp', 'MOs'], colors='ivory', alpha=.6)\n",
    "\n",
    "# Add a sphere to the center of mass of the secondary motor cortex in the right hemisphere\n",
    "p0 = scene.get_region_CenterOfMass(\"MOs\", unilateral=True)\n",
    "multiscene.scenes[1].add_sphere_at_point(pos=p0, color='red')\n",
    "\n",
    "# Add some tractography data for the primary visual cortex\n",
    "p0 = scene.get_region_CenterOfMass(\"VISp\", unilateral=True)\n",
    "tract = scene.get_projection_tracts_to_target(p0)\n",
    "multiscene.scenes[2].add_tractography(tract, color_by=\"region\", display_injection_structure=False)\n",
    "\n",
    "# Render neurons in MOs\n",
    "multiscene.scenes[3].add_neurons(\"path to mouselight neuron .json file\", \n",
    "            color_neurites=False, color_by_region=True, force_to_hemisphere=\"right\")\n",
    "\n",
    "# and then just render them all\n",
    "multiscene.render()"
   ]
  }
 ],
 "metadata": {
  "kernelspec": {
   "display_name": "Python 3",
   "language": "python",
   "name": "python3"
  },
  "language_info": {
   "codemirror_mode": {
    "name": "ipython",
    "version": 3
   },
   "file_extension": ".py",
   "mimetype": "text/x-python",
   "name": "python",
   "nbconvert_exporter": "python",
   "pygments_lexer": "ipython3",
   "version": "3.6.6"
  }
 },
 "nbformat": 4,
 "nbformat_minor": 2
}
