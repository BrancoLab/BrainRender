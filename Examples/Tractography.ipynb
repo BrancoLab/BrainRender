{
 "cells": [
  {
   "cell_type": "markdown",
   "metadata": {},
   "source": [
    "# Tractography\n",
    "\n",
    "Tractography data allows users to visualize afferent projections to a brain region of interest. \n",
    "For instance, these are the tractography data for injection experiments performed as part of the Allen Mouse Connectome project in which projections to the Zona Incerta were found:\n",
    "\n",
    "<img src=\"../Docs/Media/tractography.png\" width=\"600\" height=\"350\">\n",
    "\n",
    "\n",
    "\n",
    "\n",
    "### Set up"
   ]
  },
  {
   "cell_type": "code",
   "execution_count": 1,
   "metadata": {},
   "outputs": [
    {
     "name": "stdout",
     "output_type": "stream",
     "text": [
      "Error: Use addButton() after rendering the scene. \n"
     ]
    }
   ],
   "source": [
    "# We begin by adding the current path to sys.path to make sure that the imports work correctly\n",
    "import sys\n",
    "sys.path.append('../')\n",
    "import os\n",
    "\n",
    "# Set up VTKPLOTTER to work in Jupyter notebooks\n",
    "from vtkplotter import *\n",
    "embedWindow(backend=False) \n",
    "\n",
    "# Imports from BrainRender\n",
    "from BrainRender.scene import Scene\n",
    "from BrainRender.Utils.ABA.connectome import ABA\n",
    "\n",
    "# Before populating the scene, we need to change the current working directory to the parent folder, \n",
    "# then we are ready to start!\n",
    "os.chdir(os.path.normpath(os.path.join(os.getcwd(), os.pardir)))\n",
    "\n",
    "\n",
    "# initializing classes\n",
    "tutorial_scene = Scene(jupyter=True)\n",
    "analyzer = ABA()\n"
   ]
  },
  {
   "cell_type": "markdown",
   "metadata": {},
   "source": [
    "### Tractography"
   ]
  },
  {
   "cell_type": "markdown",
   "metadata": {},
   "source": [
    "The tractography analysis allows you to load data from tracers injections experiments performed as part of the Allen Mouse Connectome project, and render the infered anatomical projection in 3D. To do so, we use the ABA class to interact with the Allen Brain Map API."
   ]
  },
  {
   "cell_type": "code",
   "execution_count": 2,
   "metadata": {},
   "outputs": [],
   "source": [
    "# We can get the projections to a brain regions very simply.\n",
    "# First we get a point in the region of interest\n",
    "p0 = tutorial_scene.get_region_CenterOfMass(\"ZI\")\n",
    "\n",
    "# Then we se these coordinates to get tractography data, note: any set of X,Y,Z coordinates would do. \n",
    "tract = analyzer.get_projection_tracts_to_target(p0=p0)"
   ]
  },
  {
   "cell_type": "code",
   "execution_count": null,
   "metadata": {},
   "outputs": [
    {
     "name": "stdout",
     "output_type": "stream",
     "text": [
      "Structures found to be projecting to target: \n",
      "     -- (RSPv)\n",
      "     -- (VMH)\n",
      "     -- (SCm)\n",
      "     -- (MOs)\n",
      "     -- (SSp-tr)\n",
      "     -- (MOp)\n",
      "     -- (PVHd)\n",
      "     -- (PAG)\n",
      "     -- (NOT)\n",
      "     -- (ILA)\n",
      "     -- (AHN)\n",
      "     -- (MM)\n",
      "     -- (PCG)\n",
      "     -- (SGN)\n",
      "     -- (ACAd)\n",
      "     -- (TU)\n",
      "     -- (SSs)\n",
      "     -- (NLOT)\n",
      "     -- (MEA)\n",
      "     -- (MRN)\n",
      "     -- (ACAv)\n",
      "     -- (VTA)\n",
      "     -- (MD)\n",
      "     -- (GPe)\n",
      "     -- (APN)\n",
      "     -- (PF)\n",
      "     -- (MV)\n",
      "     -- (PPN)\n",
      "     -- (PMv)\n",
      "     -- (CP)\n",
      "     -- (PIL)\n",
      "     -- (VAL)\n",
      "     -- (VISam)\n",
      "     -- (LHA)\n",
      "     -- (IF)\n",
      "     -- (ZI)\n",
      "     -- (PSTN)\n",
      "     -- (PB)\n",
      "     -- (ORBl)\n",
      "     -- (VM)\n",
      "     -- (PH)\n",
      "     -- (PRNc)\n",
      "     -- (NDB)\n",
      "     -- (PSV)\n",
      "     -- (PL)\n",
      "     -- (SSp-ll)\n",
      "     -- (RN)\n",
      "     -- (LSr)\n",
      "     -- (SSp-ul)\n",
      "     -- (DMH)\n",
      "     -- (CEA)\n",
      "     -- (ORBvl)\n",
      "     -- (MPO)\n",
      "     -- (MARN)\n",
      "     -- (LDT)\n",
      "     -- (IPN)\n",
      "     -- (SSp-bfd)\n",
      "     -- (RT)\n",
      "     -- (SSp-m)\n",
      "     -- (TRN)\n",
      "     -- (VII)\n",
      "     -- (MDRN)\n",
      "     -- (CS)\n",
      "     -- (LGv)\n",
      "     -- (SSp-n)\n",
      "     -- (VISC)\n",
      "     -- (SUB)\n",
      "     -- (RE)\n",
      "     -- (PGRNl)\n",
      "     -- (NLL)\n",
      "     -- (BST)\n",
      "     -- (ARH)\n",
      "     -- (VISp)\n",
      "     -- (IRN)\n",
      "     -- (VISa)\n",
      "     -- (IC)\n",
      "     -- (VISrl)\n",
      "     -- (SPFm)\n",
      "     -- (PPT)\n",
      "     -- (LP)\n",
      "     -- (PO)\n",
      "     -- (GRN)\n",
      "     -- (XII)\n",
      "     -- (VISpm)\n",
      "     -- (POST)\n",
      "     -- (PRNr)\n",
      "     -- (SNr)\n",
      "     -- (FRP)\n",
      "     -- (ENTl)\n",
      "     -- (ORBm)\n",
      "     -- (DR)\n",
      "     -- (ECT)\n",
      "     -- (GPi)\n",
      "     -- (RSPagl)\n",
      "     -- (AUDd)\n",
      "     -- (SCs)\n",
      "     -- (CA1)\n",
      "     -- (RSPd)\n",
      "     -- (VPMpc)\n",
      "     -- (LPO)\n",
      "     -- (NPC)\n",
      "     -- (VISal)\n",
      "     -- (DG)\n",
      "     -- (VPM)\n",
      "     -- (CUN)\n",
      "\n",
      "\n",
      "press 'Esc' to Quit\n",
      "Warning: Use showInset() after first rendering the scene. \n"
     ]
    }
   ],
   "source": [
    "# To display these projections, simply add them to a scene\n",
    "tutorial_scene.add_tractography(tract, display_injection_structure=False, color_by=\"region\")\n",
    "tutorial_scene.render()\n",
    "\n",
    "# The result should look something like the screenshot at the start of this example. "
   ]
  },
  {
   "cell_type": "code",
   "execution_count": null,
   "metadata": {},
   "outputs": [],
   "source": [
    "# In the example above, the various tracts are coloroued by the Allen Brain Atlas default color of the injection\n",
    "# structure. But maybe we want them to all have the same color:\n",
    "tutorial_scene = Scene(jupyter=True)\n",
    "tutorial_scene.add_tractography(tract, display_injection_structure=False, color_by=\"manual\", color=\"orange\")\n",
    "tutorial_scene.render()"
   ]
  },
  {
   "cell_type": "markdown",
   "metadata": {},
   "source": [
    "Note that if you are trying to figure out the best way to show the projections, you don't have to download\n",
    "the tractography data every time. "
   ]
  },
  {
   "cell_type": "code",
   "execution_count": 4,
   "metadata": {},
   "outputs": [],
   "source": [
    "# You can also color the tractography data to make sure that projections from a structure of interest are highlighted\n",
    "tutorial_scene = Scene(jupyter=True)\n",
    "tutorial_scene.add_tractography(tract, display_injection_structure=False, color_by=\"target_region\", \n",
    "                                VIP_regions=['MOs'], VIP_color=\"red\", others_color=\"ivory\"\n",
    "                               )\n",
    "tutorial_scene.render()"
   ]
  },
  {
   "cell_type": "code",
   "execution_count": null,
   "metadata": {},
   "outputs": [],
   "source": [
    "# You can also show the brain structures projecting to your target brain region\n",
    "tract = analyzer.get_projection_tracts_to_target(\"CA1\") \n",
    "tutorial_scene = Scene(jupyter=True)\n",
    "tutorial_scene.add_tractography(tract, display_injection_structure=True, color_by=\"region\")\n",
    "tutorial_scene.render()"
   ]
  },
  {
   "cell_type": "markdown",
   "metadata": {},
   "source": [
    "Don't forget to check the other examples to lear more about how to use BrainRender to make amazing 3D renderings!\n",
    "Also, you can find a list of variables you can play around with in BrainRender.variables.py\n",
    "Playing around with these variables will allow you to make the rendering look exactly how you want them to be. "
   ]
  }
 ],
 "metadata": {
  "file_extension": ".py",
  "kernelspec": {
   "display_name": "Python 3",
   "language": "python",
   "name": "python3"
  },
  "language_info": {
   "codemirror_mode": {
    "name": "ipython",
    "version": 3
   },
   "file_extension": ".py",
   "mimetype": "text/x-python",
   "name": "python",
   "nbconvert_exporter": "python",
   "pygments_lexer": "ipython3",
   "version": "3.6.7"
  },
  "mimetype": "text/x-python",
  "name": "python",
  "npconvert_exporter": "python",
  "pygments_lexer": "ipython3",
  "version": 3
 },
 "nbformat": 4,
 "nbformat_minor": 2
}
