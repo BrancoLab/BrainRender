{
 "cells": [
  {
   "cell_type": "markdown",
   "metadata": {},
   "source": [
    "## Brainrender in Jupyter\n",
    "This tutorial will show you how to create and render a brainrender scene in a Jupyter notebook."
   ]
  },
  {
   "cell_type": "markdown",
   "metadata": {},
   "source": [
    "brainrender can be used with Jupyter notebooks. When using notebooks you have two options:\n",
    "you want your rendering embedded in the notebook\n",
    "you're okay with the rendering being shown in a separate pop-up window.\n",
    "let's see how we can achieve both. "
   ]
  },
  {
   "cell_type": "markdown",
   "metadata": {},
   "source": [
    "## Embedding renderings in Jupyter notebooks\n",
    "\n",
    "By default brainrender is setup to let you embed your renderings in a jupyter notebook, so it's fairly simple to achieve this.\n",
    "\n",
    "When embedding renderings in Jupyter Notebook not all of brainrender's functionality will work! If you want to support all of brainrender's features you should not embed renderings in the notebooks.\n",
    "\n",
    "As said above, you might not have access to all features when embedding your renderings. That's because of the k3d backend used to achieve the embedded renderings. \n",
    "In particular Scene.render() will prepare the rendering for you, but it won't actually create the render. To visualize your scene you will need a couple extra lines of code:"
   ]
  },
  {
   "cell_type": "code",
   "execution_count": null,
   "metadata": {},
   "outputs": [],
   "source": [
    "from vedo import Plotter\n",
    "from brainrender.scene import Scene\n",
    "\n",
    "scene = Scene()\n",
    "scene.render() ## this won't actually render\n",
    "\n",
    "vp = Plotter()\n",
    "show(scene.actors)"
   ]
  },
  {
   "cell_type": "markdown",
   "metadata": {},
   "source": [
    "## Rendering your scene in a separate window\n",
    "\n",
    "If you've decided to not embed your scene in the notebook, then you just need to add a couple lines at the beginning of your notebook:"
   ]
  },
  {
   "cell_type": "code",
   "execution_count": null,
   "metadata": {},
   "outputs": [],
   "source": [
    "from vedo import embedWindow\n",
    "embedWindow(False) "
   ]
  },
  {
   "cell_type": "markdown",
   "metadata": {},
   "source": [
    "you can then use brainrender just in the same way as you would otherwise. "
   ]
  }
 ],
 "metadata": {
  "kernelspec": {
   "display_name": "Python 3",
   "language": "python",
   "name": "python3"
  },
  "language_info": {
   "codemirror_mode": {
    "name": "ipython",
    "version": 3
   },
   "file_extension": ".py",
   "mimetype": "text/x-python",
   "name": "python",
   "nbconvert_exporter": "python",
   "pygments_lexer": "ipython3",
   "version": "3.7.5"
  }
 },
 "nbformat": 4,
 "nbformat_minor": 2
}