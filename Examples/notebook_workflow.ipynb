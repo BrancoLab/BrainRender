{
 "cells": [
  {
   "cell_type": "markdown",
   "metadata": {},
   "source": [
    "There's two ways to use `brainrender` in a jupyter notebook\n",
    "\n",
    "- Have it open a new window when a scene gets rendered\n",
    "- Embed the rendered scenes directly into your notebook\n",
    "\n",
    "Whilst the second option might be preferable in some cases, it should be noted that currently not all of `brainrender`'s features are supported by the backend (`k3d`) necessary to embed the scene in the notebook."
   ]
  },
  {
   "cell_type": "code",
   "execution_count": 2,
   "metadata": {},
   "outputs": [],
   "source": [
    "from brainrender.scene import Scene\n",
    "from vedo import embedWindow, show  # <- this will be used to render a scene in the notebook\n"
   ]
  },
  {
   "cell_type": "markdown",
   "metadata": {},
   "source": [
    "### Create a popup scene"
   ]
  },
  {
   "cell_type": "code",
   "execution_count": 2,
   "metadata": {},
   "outputs": [],
   "source": [
    "embedWindow(None)  # <- this will make your scene popup\n",
    "\n",
    "popup_scene = Scene(title='popup', verbose=False)\n",
    "\n",
    "popup_scene.add_brain_regions('MOs')\n",
    "\n",
    "popup_scene.render()"
   ]
  },
  {
   "cell_type": "markdown",
   "metadata": {},
   "source": [
    "### Create an embedded scene"
   ]
  },
  {
   "cell_type": "code",
   "execution_count": 2,
   "metadata": {},
   "outputs": [
    {
     "data": {
      "application/vnd.jupyter.widget-view+json": {
       "model_id": "2ab8e637041d4727820cd3cd1c19ef82",
       "version_major": 2,
       "version_minor": 0
      },
      "text/plain": [
       "Plot(antialias=3, axes=['x', 'y', 'z'], axes_helper=1.0, background_color=16777215, camera=[6771.671281616228,…"
      ]
     },
     "metadata": {},
     "output_type": "display_data"
    }
   ],
   "source": [
    "embedWindow('k3d')  # <- this will make your scene embed as a panel\n",
    "\n",
    "# Create a scene\n",
    "scene = Scene(title='Jupyter', verbose=False)  # note that the title will not actually display\n",
    "\n",
    "# Make sure it gets embedded in the window\n",
    "scene.jupyter = True\n",
    "\n",
    "# scene.render now will prepare the scene for rendering, but it won't render anything yet\n",
    "scene.render()\n",
    "\n",
    "#  to actually display the scene we use `vedo`'s `show` method to show the scene's actors\n",
    "show(scene.actors)"
   ]
  },
  {
   "cell_type": "markdown",
   "metadata": {},
   "source": [
    "## Create an embedded widget"
   ]
  },
  {
   "cell_type": "code",
   "execution_count": 4,
   "metadata": {},
   "outputs": [
    {
     "data": {
      "application/vnd.jupyter.widget-view+json": {
       "model_id": "ecd6822d212e451292630b86bb8cc00d",
       "version_major": 2,
       "version_minor": 0
      },
      "text/plain": [
       "VBox(children=(Viewer(cmap=['jet'], geometries=[{'vtkClass': 'vtkPolyData', 'points': {'vtkClass': 'vtkPoints'…"
      ]
     },
     "metadata": {},
     "output_type": "display_data"
    }
   ],
   "source": [
    "embedWindow('itkwidgets')  # <- this will make you scene embed as a widget\n",
    "\n",
    "# Create a scene\n",
    "scene = Scene(title=\"brain regions\", verbose=False)\n",
    "scene.jupyter = True\n",
    "\n",
    "# Add the whole thalamus\n",
    "scene.add_brain_regions([\"TH\"], alpha=0.15)\n",
    "\n",
    "from ipywidgets import VBox, Button\n",
    "VBox([show(scene.actors)])"
   ]
  },
  {
   "cell_type": "code",
   "execution_count": null,
   "metadata": {},
   "outputs": [],
   "source": []
  }
 ],
 "metadata": {
  "kernelspec": {
   "display_name": "Python 3.7.0 64-bit ('dev': conda)",
   "language": "python",
   "name": "python37064bitdevconda112fd021ba3e412cb7ad87c8512649fa"
  },
  "language_info": {
   "codemirror_mode": {
    "name": "ipython",
    "version": 3
   },
   "file_extension": ".py",
   "mimetype": "text/x-python",
   "name": "python",
   "nbconvert_exporter": "python",
   "pygments_lexer": "ipython3",
   "version": "3.7.0"
  }
 },
 "nbformat": 4,
 "nbformat_minor": 2
}
