{
 "cells": [
  {
   "cell_type": "markdown",
   "metadata": {},
   "source": [
    "# Neurons tutorial\n",
    "## More advanced options when rendering Mouse Light Neurons\n",
    "You can find more info on how to get data from the Mouse Light database in the user guide. "
   ]
  },
  {
   "cell_type": "markdown",
   "metadata": {},
   "source": [
    "### Set up"
   ]
  },
  {
   "cell_type": "code",
   "execution_count": null,
   "metadata": {},
   "outputs": [],
   "source": [
    "# We begin by adding the current path to sys.path to make sure that the imports work correctly\n",
    "import sys\n",
    "sys.path.append('../')\n",
    "import os\n",
    "\n",
    "# Set up VTKPLOTTER to work in Jupyter notebooks\n",
    "from vtkplotter import *\n",
    "embedWindow(backend=False) \n",
    "\n",
    "# Get the Mouse Light data loader function\n",
    "from BrainRender.Utils.mouselight_parser import render_neurons "
   ]
  },
  {
   "cell_type": "code",
   "execution_count": null,
   "metadata": {},
   "outputs": [],
   "source": [
    "from BrainRender.settings import *\n",
    "main_fld = \"path_to_your_folder\"\n",
    "folders_paths = update_folders(main_fld)\n",
    "\n",
    "# Please check that the folder paths have been set correctly\n",
    "print(folders_paths['main_fld'])"
   ]
  },
  {
   "cell_type": "code",
   "execution_count": null,
   "metadata": {},
   "outputs": [],
   "source": [
    "from BrainRender.scene import Scene\n",
    "\n",
    "# Before populating the scene, we need to change the current working directory to the parent folder, \n",
    "# then we are ready to start!\n",
    "os.chdir(os.path.normpath(os.path.join(os.getcwd(), os.pardir)))"
   ]
  },
  {
   "cell_type": "markdown",
   "metadata": {},
   "source": [
    "### Render neurons"
   ]
  },
  {
   "cell_type": "code",
   "execution_count": null,
   "metadata": {},
   "outputs": [],
   "source": [
    "# Let's create our first scene!\n",
    "tutorial_scene = Scene(jupyter=True)"
   ]
  },
  {
   "cell_type": "code",
   "execution_count": null,
   "metadata": {},
   "outputs": [],
   "source": [
    "# Get the filepath of the JSON file\n",
    "neurons_file = \"Examples/example_files/one_neuron.json\""
   ]
  },
  {
   "cell_type": "code",
   "execution_count": null,
   "metadata": {},
   "outputs": [],
   "source": [
    "# Create the actors for the neurons to render\n",
    "neurons = render_neurons(neurons_file, scene=tutorial_scene, \n",
    "                         color_neurites=True, axon_color=\"antiquewhite\", \n",
    "                         soma_color=\"darkgoldenrod\", dendrites_color=\"firebrick\")"
   ]
  },
  {
   "cell_type": "code",
   "execution_count": null,
   "metadata": {},
   "outputs": [],
   "source": [
    "# Show neurons and ZI in the same scene:\n",
    "tutorial_scene = Scene()\n",
    "tutorial_scene.add_neurons(neurons)\n",
    "tutorial_scene.add_brain_regions(['ZI'], colors='white', alpha=0.5) # add the ZonaIncerta to our scene\n",
    "tutorial_scene.render() "
   ]
  },
  {
   "cell_type": "markdown",
   "metadata": {},
   "source": [
    "You can also create the neurons models and add them to the scene in one step"
   ]
  },
  {
   "cell_type": "code",
   "execution_count": null,
   "metadata": {},
   "outputs": [],
   "source": [
    "tutorial_scene = Scene()\n",
    "tutorial_scene.add_neurons(neurons_file, soma_color='red', color_neurites=False)\n",
    "tutorial_scene.add_brain_regions(['ZI'], colors='white', alpha=0.5) # add the ZonaIncerta to our scene\n",
    "tutorial_scene.render()"
   ]
  },
  {
   "cell_type": "markdown",
   "metadata": {},
   "source": [
    "But rendering multiple neurons may take a couple minutes, so you can also save the actors as a variable and use \n",
    "them repeatedly"
   ]
  },
  {
   "cell_type": "code",
   "execution_count": null,
   "metadata": {},
   "outputs": [],
   "source": [
    "tutorial_scene = Scene()\n",
    "\n",
    "neurons_file = \"Examples/example_files/axons_in_CA1.json\"\n",
    "# To color soma, dendrites and axon with different colors, set color_neurites as True and \n",
    "# specify the colors for the different parts of the neurons\n",
    "neurons = render_neurons(neurons_file, scene=tutorial_scene, \n",
    "                         color_neurites=True, axon_color=\"antiquewhite\", \n",
    "                         soma_color=\"darkgoldenrod\", dendrites_color=\"firebrick\")"
   ]
  },
  {
   "cell_type": "code",
   "execution_count": null,
   "metadata": {},
   "outputs": [],
   "source": [
    "tutorial_scene.add_neurons(neurons) # you can pass keyword arguments to this function to edit the look of the neurons\n",
    "# it takes the same arguments as \"render_neurons\"\n",
    "tutorial_scene.add_brain_regions(['CA1'], colors='green', alpha=0.5) # add the ZonaIncerta to our scene\n",
    "tutorial_scene.render() "
   ]
  },
  {
   "cell_type": "markdown",
   "metadata": {},
   "source": [
    "If you have a scene with some neurons already in it. You can change their appearence with `.edit_neurons`, withouth having to render them again"
   ]
  },
  {
   "cell_type": "markdown",
   "metadata": {},
   "source": [
    "### Other ways to change the aspect of neurons"
   ]
  },
  {
   "cell_type": "code",
   "execution_count": null,
   "metadata": {},
   "outputs": [],
   "source": [
    "# You can also make it so that each neuron has a different random color.\n",
    "tutorial_scene = Scene()\n",
    "\n",
    "neurons_file = \"Examples/example_files/neurons_in_Striatum.json\"\n",
    "first = render_neurons(neurons_file, scene=tutorial_scene, color_neurites=False, random_color=True)\n",
    "neurons_file = \"Examples/example_files/one_neuron.json\"\n",
    "second = render_neurons(neurons_file, scene=tutorial_scene, color_neurites=False, random_color=True)\n",
    "\n",
    "\n",
    "tutorial_scene.add_neurons(first)\n",
    "tutorial_scene.add_neurons(second)\n",
    "\n",
    "tutorial_scene.render() "
   ]
  },
  {
   "cell_type": "markdown",
   "metadata": {},
   "source": [
    "You can pass a string (e.g. `hot`) as value for `random_color` to have the neurons have a random color drawn from a colormap. "
   ]
  },
  {
   "cell_type": "code",
   "execution_count": null,
   "metadata": {},
   "outputs": [],
   "source": [
    "# Finally, you can decide how big to make the neurites, or not to show them at all\n",
    "tutorial_scene = Scene()\n",
    "tutorial_scene.add_neurons(neurons_file, soma_color='red', render_neurites=False)\n",
    "tutorial_scene.render()"
   ]
  },
  {
   "cell_type": "code",
   "execution_count": null,
   "metadata": {},
   "outputs": [],
   "source": [
    "tutorial_scene = Scene()\n",
    "tutorial_scene.add_neurons(neurons_file, soma_color='red', neurites_radius=50)\n",
    "tutorial_scene.render()"
   ]
  },
  {
   "cell_type": "markdown",
   "metadata": {},
   "source": [
    "### Other options\n",
    "You can also have the brain regions that the neurons go through rendered. "
   ]
  },
  {
   "cell_type": "code",
   "execution_count": null,
   "metadata": {},
   "outputs": [],
   "source": [
    "# Create a scene, add neurons and show the regions that the axons go through. \n",
    "neurons_file = \"Examples/example_files/neurons_in_Striatum.json\"\n",
    "\n",
    "scene = Scene()\n",
    "scene.add_neurons(neuron_file, color_neurites=False, random_color=\"jet\", display_axon_regions=True)\n",
    "scene.render()\n"
   ]
  },
  {
   "cell_type": "markdown",
   "metadata": {},
   "source": [
    "Don't forget to check the other examples to lear more about how to use BrainRender to make amazing 3D renderings!\n",
    "Also, you can find a list of variables you can play around with in BrainRender.variables.py\n",
    "Playing around with these variables will allow you to make the rendering look exactly how you want them to be. "
   ]
  }
 ],
 "metadata": {
  "kernelspec": {
   "display_name": "Python 3",
   "language": "python",
   "name": "python3"
  },
  "language_info": {
   "codemirror_mode": {
    "name": "ipython",
    "version": 3
   },
   "file_extension": ".py",
   "mimetype": "text/x-python",
   "name": "python",
   "nbconvert_exporter": "python",
   "pygments_lexer": "ipython3",
   "version": "3.6.6"
  }
 },
 "nbformat": 4,
 "nbformat_minor": 2
}
