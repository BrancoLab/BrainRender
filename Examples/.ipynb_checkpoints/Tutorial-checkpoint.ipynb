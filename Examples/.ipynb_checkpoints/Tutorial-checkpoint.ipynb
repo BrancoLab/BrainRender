{
 "cells": [
  {
   "cell_type": "markdown",
   "metadata": {},
   "source": [
    "# BrainRender Tutorial"
   ]
  },
  {
   "cell_type": "markdown",
   "metadata": {},
   "source": [
    "In this tutorial you will be shown the main functionalities of BrainRender, but if you want to dive deeper into the various options available you can check out the other examples!"
   ]
  },
  {
   "cell_type": "code",
   "execution_count": null,
   "metadata": {},
   "outputs": [],
   "source": [
    "# We begin by adding the current path to sys.path to make sure that the imports work correctly\n",
    "import sys\n",
    "sys.path.append('../')\n",
    "import os\n",
    "\n",
    "# Set up VTKPLOTTER to work in Jupyter notebooks\n",
    "from vtkplotter import *\n",
    "embedWindow(backend=False) \n"
   ]
  },
  {
   "cell_type": "markdown",
   "metadata": {},
   "source": [
    "Then we import the Brain render settings and define the the work folder (that's where the data will be stored, check the user guid for more info)"
   ]
  },
  {
   "cell_type": "code",
   "execution_count": null,
   "metadata": {},
   "outputs": [],
   "source": [
    "from BrainRender.settings import *\n",
    "main_fld = \"/Users/federicoclaudi/Dropbox (UCL - SWC)/Rotation_vte/analysis_metadata/anatomy\"\n",
    "folder_paths = update_folders(main_fld)"
   ]
  },
  {
   "cell_type": "markdown",
   "metadata": {},
   "source": [
    "Brain render allows for the creation of a \"scene\" in which to render a number of 3d objects (e.g. brain structures, neurons reconstructions etc.)\n",
    "so we first need to import the class Scene and create an instance of it, then we can add objects (\"actors\") to it. \n",
    "\n"
   ]
  },
  {
   "cell_type": "code",
   "execution_count": null,
   "metadata": {},
   "outputs": [],
   "source": [
    "from BrainRender.scene import Scene"
   ]
  },
  {
   "cell_type": "code",
   "execution_count": null,
   "metadata": {},
   "outputs": [],
   "source": [
    "# Before populating the scene, we need to change the current working directory to the parent folder, \n",
    "# then we are ready to start!\n",
    "os.chdir(os.path.normpath(os.path.join(os.getcwd(), os.pardir)))"
   ]
  },
  {
   "cell_type": "markdown",
   "metadata": {},
   "source": [
    "### Rendering brain regions\n",
    "To add brain regions to our scene, we can use the \"add_brain_regions\" function. \n",
    "To spicy which brain regions to render, we pass a list of strings, each of which is the acronym that corresponds to the brain region of interest"
   ]
  },
  {
   "cell_type": "code",
   "execution_count": null,
   "metadata": {},
   "outputs": [],
   "source": [
    "# Let's create our first scene!\n",
    "tutorial_scene = Scene(jupyter=True)"
   ]
  },
  {
   "cell_type": "code",
   "execution_count": null,
   "metadata": {},
   "outputs": [],
   "source": [
    "tutorial_scene.add_brain_regions(['PAG'], colors='red') # add the PAG to our scene"
   ]
  },
  {
   "cell_type": "code",
   "execution_count": null,
   "metadata": {},
   "outputs": [],
   "source": [
    "# This will render the scene in a new window. \n",
    "# Press 'Esc' to close it.\n",
    "tutorial_scene.render()"
   ]
  },
  {
   "cell_type": "markdown",
   "metadata": {},
   "source": [
    "To know which brain structures are supported and what their acronyms here, you can print the list\n",
    "of available structures: "
   ]
  },
  {
   "cell_type": "code",
   "execution_count": null,
   "metadata": {},
   "outputs": [],
   "source": [
    "tutorial_scene.print_structures() "
   ]
  },
  {
   "cell_type": "code",
   "execution_count": null,
   "metadata": {},
   "outputs": [],
   "source": [
    "# we can also render multiple brain regions and only colors the ones we are interested:\n",
    "# create a new scene\n",
    "tutorial_scene = Scene()\n",
    "# display multiple regions and color the \"VIP\" regions\n",
    "tutorial_scene.add_brain_regions(['CA1', 'ZI', 'MOs'], colors='green', VIP_regions=['MOs'], VIP_color='red') # add the PAG to our scene\n",
    "tutorial_scene.render() "
   ]
  },
  {
   "cell_type": "markdown",
   "metadata": {},
   "source": [
    "# Rendering neurons\n",
    "BrainRender let's you render neurons reconstructed by the Mouse Light project from Janelia. To do so, go first to the Neurons Browser, select the neurons you are interested in and download the data as a JSON file: these files can be used to render the neurons. \n",
    "\n",
    "You can find a couple example files in \"Examples/example_files\" to get you started\n"
   ]
  },
  {
   "cell_type": "code",
   "execution_count": null,
   "metadata": {},
   "outputs": [],
   "source": [
    "# Get the filepath of the JSON file\n",
    "neurons_file = \"Examples/example_files/one_neuron.json\"\n",
    "\n",
    "# Get the Mouse Light data loader function\n",
    "from BrainRender.Utils.mouselight_parser import render_neurons "
   ]
  },
  {
   "cell_type": "markdown",
   "metadata": {},
   "source": [
    "When rendering neurons you have many options to choose how to color them. For more detailes check out the example 'MouseLight'"
   ]
  },
  {
   "cell_type": "code",
   "execution_count": null,
   "metadata": {},
   "outputs": [],
   "source": [
    "# Create the actors for the neurons to render\n",
    "neurons = render_neurons(neurons_file, color_neurites=True, axon_color=\"antiquewhite\", soma_color=\"darkgoldenrod\", dendrites_color=\"firebrick\")\n"
   ]
  },
  {
   "cell_type": "code",
   "execution_count": null,
   "metadata": {},
   "outputs": [],
   "source": [
    "# then use the \"add_neurons\" function  to add the neurons to the scene (and don't forget to render it!)\n",
    "tutorial_scene = Scene()\n",
    "tutorial_scene.add_neurons(neurons)\n",
    "tutorial_scene.render() # ! uncomment"
   ]
  },
  {
   "cell_type": "code",
   "execution_count": null,
   "metadata": {},
   "outputs": [],
   "source": [
    "# And you can show neurons and brain structures in the same scene to get a better understanding of where these beautiful axons go:\n",
    "tutorial_scene = Scene()\n",
    "tutorial_scene.add_neurons(neurons)\n",
    "tutorial_scene.add_brain_regions(['ZI'], colors='white', alpha=0.5) # add the ZonaIncerta to our scene\n",
    "tutorial_scene.render() "
   ]
  },
  {
   "cell_type": "markdown",
   "metadata": {},
   "source": [
    "### Rendering connectivity data\n",
    "Finally, BrainRender can be used to render tractography data downloaded from the Allen Brain Atlas mouse Connectome Database.\n",
    "Given a brain region of interest, we can download data from experiments whose injections showed projections to our brain region. Then we can render these projections in 3D"
   ]
  },
  {
   "cell_type": "code",
   "execution_count": null,
   "metadata": {},
   "outputs": [],
   "source": [
    "# This kind of interctions with the Allen Brain Atlas datasets are handled by the class called ABA\n",
    "from BrainRender.ABA_analyzer import ABA"
   ]
  },
  {
   "cell_type": "code",
   "execution_count": null,
   "metadata": {},
   "outputs": [],
   "source": [
    "# Get the projections to the Zona Incerta\n",
    "analyzer = ABA()\n",
    "tract = analyzer.get_projection_tracts_to_target(\"ZI\") "
   ]
  },
  {
   "cell_type": "code",
   "execution_count": null,
   "metadata": {},
   "outputs": [],
   "source": [
    "# create a new scene. Add the projections, the mesh for the ZI and render the scene. \n",
    "tutorial_scene = Scene()\n",
    "tutorial_scene.add_brain_regions(['ZI'], colors='red', alpha=.5) # add the PAG to our scene\n",
    "tutorial_scene.add_tractography(tract, display_injection_structure=False, color_by=\"region\")\n",
    "tutorial_scene.render()"
   ]
  },
  {
   "cell_type": "markdown",
   "metadata": {},
   "source": [
    "Don't forget to check the other examples to lear more about how to use BrainRender to make amazing 3D renderings!\n",
    "Also, you can find a list of variables you can play around with in BrainRender.variables.py\n",
    "Playing around with these variables will allow you to make the rendering look exactly how you want them to be. "
   ]
  },
  {
   "cell_type": "code",
   "execution_count": null,
   "metadata": {},
   "outputs": [],
   "source": []
  }
 ],
 "metadata": {
  "kernelspec": {
   "display_name": "Python 3",
   "language": "python",
   "name": "python3"
  },
  "language_info": {
   "codemirror_mode": {
    "name": "ipython",
    "version": 3
   },
   "file_extension": ".py",
   "mimetype": "text/x-python",
   "name": "python",
   "nbconvert_exporter": "python",
   "pygments_lexer": "ipython3",
   "version": "3.6.7"
  }
 },
 "nbformat": 4,
 "nbformat_minor": 2
}
