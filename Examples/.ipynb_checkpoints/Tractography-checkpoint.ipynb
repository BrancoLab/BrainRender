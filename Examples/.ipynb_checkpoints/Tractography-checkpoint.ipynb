{
 "cells": [
  {
   "cell_type": "markdown",
   "metadata": {},
   "source": [
    "# Tractography\n",
    "### Set up"
   ]
  },
  {
   "cell_type": "code",
   "execution_count": null,
   "metadata": {},
   "outputs": [],
   "source": [
    "# We begin by adding the current path to sys.path to make sure that the imports work correctly\n",
    "import sys\n",
    "sys.path.append('../')\n",
    "import os\n",
    "\n",
    "# Set up VTKPLOTTER to work in Jupyter notebooks\n",
    "from vtkplotter import *\n",
    "embedWindow(backend=False) \n",
    "\n",
    "from BrainRender.settings import *\n",
    "main_fld = \"/Users/federicoclaudi/Dropbox (UCL - SWC)/Rotation_vte/analysis_metadata/anatomy\"\n",
    "folder_paths = update_folders(main_fld)\n",
    "\n",
    "from BrainRender.scene import Scene\n",
    "\n",
    "# Before populating the scene, we need to change the current working directory to the parent folder, \n",
    "# then we are ready to start!\n",
    "os.chdir(os.path.normpath(os.path.join(os.getcwd(), os.pardir)))\n"
   ]
  },
  {
   "cell_type": "markdown",
   "metadata": {},
   "source": [
    "### Tractography"
   ]
  },
  {
   "cell_type": "markdown",
   "metadata": {},
   "source": [
    "The tractography analysis allows you to load data from tracers injections experiments performed as part of the Allen Mouse Connectome project, and render the infered anatomical projection in 3D. To do so, we use the ABA class to interact with the Allen Brain Map API. "
   ]
  },
  {
   "cell_type": "code",
   "execution_count": null,
   "metadata": {},
   "outputs": [],
   "source": [
    "from BrainRender.ABA_analyzer import ABA\n",
    "analyzer = ABA()"
   ]
  },
  {
   "cell_type": "code",
   "execution_count": null,
   "metadata": {},
   "outputs": [],
   "source": [
    "# We can get the projections to a brain regions very simply:\n",
    "tract = analyzer.get_projection_tracts_to_target(\"ZI\") "
   ]
  },
  {
   "cell_type": "code",
   "execution_count": null,
   "metadata": {},
   "outputs": [],
   "source": [
    "# To display these projections, simply add them to a scene\n",
    "tutorial_scene = Scene()\n",
    "tutorial_scene.add_tractography(tract, display_injection_structure=False, color_by=\"region\")\n",
    "tutorial_scene.render()"
   ]
  },
  {
   "cell_type": "code",
   "execution_count": null,
   "metadata": {},
   "outputs": [],
   "source": [
    "# In the example above, the various tracts are coloroued by the Allen Brain Atlas default color of the injection\n",
    "# structure. But maybe we want them to all have the same color:\n",
    "tutorial_scene = Scene()\n",
    "tutorial_scene.add_tractography(tract, display_injection_structure=False, color_by=\"manual\", color=\"orange\")\n",
    "tutorial_scene.render()"
   ]
  },
  {
   "cell_type": "markdown",
   "metadata": {},
   "source": [
    "Note that if you are trying to figure out the best way to show the projections, you don't have to download\n",
    "the tractography data every time. "
   ]
  },
  {
   "cell_type": "code",
   "execution_count": null,
   "metadata": {},
   "outputs": [],
   "source": [
    "# You can also color the tractography data to make sure that projections from a structure of interest are highlighted\n",
    "tutorial_scene = Scene()\n",
    "tutorial_scene.add_tractography(tract, display_injection_structure=False, color_by=\"target_region\", \n",
    "                                VIP_regions=['MOs'], VIP_color=\"red\", others_color=\"ivory\"\n",
    "                               )\n",
    "tutorial_scene.render()"
   ]
  },
  {
   "cell_type": "code",
   "execution_count": null,
   "metadata": {},
   "outputs": [],
   "source": [
    "# You can also show the brain structures projecting to your target brain region\n",
    "tract = analyzer.get_projection_tracts_to_target(\"CA1\") \n",
    "tutorial_scene = Scene()\n",
    "tutorial_scene.add_tractography(tract, display_injection_structure=True, color_by=\"region\")\n",
    "tutorial_scene.render()"
   ]
  },
  {
   "cell_type": "markdown",
   "metadata": {},
   "source": [
    "You can also check the projections to a specific point in the brain by passing coordinates instad of brain regions to \"get_projection_tracts_to_target\""
   ]
  },
  {
   "cell_type": "code",
   "execution_count": null,
   "metadata": {},
   "outputs": [],
   "source": [
    "# Let's define a random point in the brain\n",
    "p = [8768, 3292, 8474]"
   ]
  },
  {
   "cell_type": "code",
   "execution_count": null,
   "metadata": {},
   "outputs": [],
   "source": [
    "# We can have a look at where it is"
   ]
  },
  {
   "cell_type": "code",
   "execution_count": null,
   "metadata": {},
   "outputs": [],
   "source": [
    "tutorial_scene = Scene()\n",
    "tutorial_scene.add_sphere_at_point(pos=p, radius=200, color='red')\n",
    "tutorial_scene.render()"
   ]
  },
  {
   "cell_type": "code",
   "execution_count": null,
   "metadata": {},
   "outputs": [],
   "source": [
    "tract = analyzer.get_projection_tracts_to_target(p0=p) "
   ]
  },
  {
   "cell_type": "code",
   "execution_count": null,
   "metadata": {},
   "outputs": [],
   "source": [
    "tutorial_scene = Scene()\n",
    "tutorial_scene.add_sphere_at_point(pos=p, radius=300, color='red', alpha=.4)\n",
    "tutorial_scene.add_tractography(tract, display_injection_structure=False, color_by=\"region\")\n",
    "tutorial_scene.render()"
   ]
  },
  {
   "cell_type": "code",
   "execution_count": null,
   "metadata": {},
   "outputs": [],
   "source": [
    "# To get the coordinates for a brain structure of choice, you can use this function:\n",
    "analyzer.get_structure_location(\"SUB\")"
   ]
  },
  {
   "cell_type": "markdown",
   "metadata": {},
   "source": [
    "Don't forget to check the other examples to lear more about how to use BrainRender to make amazing 3D renderings!\n",
    "Also, you can find a list of variables you can play around with in BrainRender.variables.py\n",
    "Playing around with these variables will allow you to make the rendering look exactly how you want them to be. "
   ]
  }
 ],
 "metadata": {
  "kernelspec": {
   "display_name": "Python 3",
   "language": "python",
   "name": "python3"
  },
  "language_info": {
   "codemirror_mode": {
    "name": "ipython",
    "version": 3
   },
   "file_extension": ".py",
   "mimetype": "text/x-python",
   "name": "python",
   "nbconvert_exporter": "python",
   "pygments_lexer": "ipython3",
   "version": "3.6.7"
  }
 },
 "nbformat": 4,
 "nbformat_minor": 2
}
