{
 "metadata": {
  "language_info": {
   "codemirror_mode": {
    "name": "ipython",
    "version": 3
   },
   "file_extension": ".py",
   "mimetype": "text/x-python",
   "name": "python",
   "nbconvert_exporter": "python",
   "pygments_lexer": "ipython3",
   "version": "3.7.0-final"
  },
  "orig_nbformat": 2,
  "kernelspec": {
   "name": "Python 3.7.0 64-bit ('test': conda)",
   "display_name": "Python 3.7.0 64-bit ('test': conda)",
   "metadata": {
    "interpreter": {
     "hash": "3631ac2b4e68826bb4a6d42ce9b51a75b9e414e9d6ef81154da7ceff546ed04a"
    }
   }
  }
 },
 "nbformat": 4,
 "nbformat_minor": 2,
 "cells": [
  {
   "source": [
    "There's two ways to use `brainrender` in a jupyter notebook\n",
    "\n",
    "- Have it open a new window when a scene gets rendered\n",
    "- Embed the rendered scenes directly into your notebook\n",
    "\n",
    "Whilst the second option might be preferable in some cases, it should be noted that currently not all of `brainrender`'s feautred are supported by the backend (`k3d`) necessary to embed the scene in the notebook. For this reason `brainrender` will open a new window by default.\n",
    "To override this behaviour set `scene.jupyter = True` as shown in this example. "
   ],
   "cell_type": "markdown",
   "metadata": {}
  },
  {
   "cell_type": "code",
   "execution_count": null,
   "metadata": {},
   "outputs": [],
   "source": [
    "from brainrender.scene import Scene\n",
    "from vedo import show  # <- this will be used to render a scene in the notebook\n"
   ]
  },
  {
   "cell_type": "code",
   "execution_count": null,
   "metadata": {},
   "outputs": [],
   "source": [
    "# Create a scene\n",
    "scene = Scene(title='Jupyter')\n",
    "\n",
    "# Make sure it gets embedded in the window\n",
    "scene.jupyter = True"
   ]
  },
  {
   "cell_type": "code",
   "execution_count": null,
   "metadata": {},
   "outputs": [],
   "source": [
    "# scene.render now will prepare the scene for rendering, but it won't render anything yet\n",
    "scene.render()"
   ]
  },
  {
   "cell_type": "code",
   "execution_count": null,
   "metadata": {},
   "outputs": [],
   "source": [
    "#  to actually display the scene we use `vedo`'s `show` method to show the scene's actors\n",
    "show(scene.actors)"
   ]
  },
  {
   "cell_type": "code",
   "execution_count": null,
   "metadata": {},
   "outputs": [],
   "source": []
  }
 ]
}